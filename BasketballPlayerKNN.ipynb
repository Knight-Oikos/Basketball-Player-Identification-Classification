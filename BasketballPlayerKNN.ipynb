{
 "cells": [
  {
   "cell_type": "code",
   "execution_count": null,
   "metadata": {},
   "outputs": [],
   "source": [
    "# Section 007 Group 02 Basketball Player Position Classification\n",
    "# This project will include KNN classification for different basketball player positions based on player's physical and game statstics\n",
    "# That being said, the algorithm will be able to predict a basketball player just entering any parameters"
   ]
  },
  {
   "cell_type": "code",
   "execution_count": 2,
   "metadata": {},
   "outputs": [
    {
     "name": "stderr",
     "output_type": "stream",
     "text": [
      "── \u001b[1mAttaching packages\u001b[22m ─────────────────────────────────────── tidyverse 1.3.0 ──\n",
      "\n",
      "\u001b[32m✔\u001b[39m \u001b[34mggplot2\u001b[39m 3.3.2     \u001b[32m✔\u001b[39m \u001b[34mpurrr  \u001b[39m 0.3.4\n",
      "\u001b[32m✔\u001b[39m \u001b[34mtibble \u001b[39m 3.0.3     \u001b[32m✔\u001b[39m \u001b[34mdplyr  \u001b[39m 1.0.2\n",
      "\u001b[32m✔\u001b[39m \u001b[34mtidyr  \u001b[39m 1.1.2     \u001b[32m✔\u001b[39m \u001b[34mstringr\u001b[39m 1.4.0\n",
      "\u001b[32m✔\u001b[39m \u001b[34mreadr  \u001b[39m 1.3.1     \u001b[32m✔\u001b[39m \u001b[34mforcats\u001b[39m 0.5.0\n",
      "\n",
      "Warning message:\n",
      "“package ‘ggplot2’ was built under R version 4.0.1”\n",
      "Warning message:\n",
      "“package ‘tibble’ was built under R version 4.0.2”\n",
      "Warning message:\n",
      "“package ‘tidyr’ was built under R version 4.0.2”\n",
      "Warning message:\n",
      "“package ‘dplyr’ was built under R version 4.0.2”\n",
      "── \u001b[1mConflicts\u001b[22m ────────────────────────────────────────── tidyverse_conflicts() ──\n",
      "\u001b[31m✖\u001b[39m \u001b[34mdplyr\u001b[39m::\u001b[32mfilter()\u001b[39m masks \u001b[34mstats\u001b[39m::filter()\n",
      "\u001b[31m✖\u001b[39m \u001b[34mdplyr\u001b[39m::\u001b[32mlag()\u001b[39m    masks \u001b[34mstats\u001b[39m::lag()\n",
      "\n",
      "Warning message:\n",
      "“package ‘tidymodels’ was built under R version 4.0.2”\n",
      "── \u001b[1mAttaching packages\u001b[22m ────────────────────────────────────── tidymodels 0.1.1 ──\n",
      "\n",
      "\u001b[32m✔\u001b[39m \u001b[34mbroom    \u001b[39m 0.7.0      \u001b[32m✔\u001b[39m \u001b[34mrecipes  \u001b[39m 0.1.13\n",
      "\u001b[32m✔\u001b[39m \u001b[34mdials    \u001b[39m 0.0.9      \u001b[32m✔\u001b[39m \u001b[34mrsample  \u001b[39m 0.0.7 \n",
      "\u001b[32m✔\u001b[39m \u001b[34minfer    \u001b[39m 0.5.4      \u001b[32m✔\u001b[39m \u001b[34mtune     \u001b[39m 0.1.1 \n",
      "\u001b[32m✔\u001b[39m \u001b[34mmodeldata\u001b[39m 0.0.2      \u001b[32m✔\u001b[39m \u001b[34mworkflows\u001b[39m 0.2.0 \n",
      "\u001b[32m✔\u001b[39m \u001b[34mparsnip  \u001b[39m 0.1.3      \u001b[32m✔\u001b[39m \u001b[34myardstick\u001b[39m 0.0.7 \n",
      "\n",
      "Warning message:\n",
      "“package ‘broom’ was built under R version 4.0.2”\n",
      "Warning message:\n",
      "“package ‘dials’ was built under R version 4.0.2”\n",
      "Warning message:\n",
      "“package ‘infer’ was built under R version 4.0.3”\n",
      "Warning message:\n",
      "“package ‘modeldata’ was built under R version 4.0.1”\n",
      "Warning message:\n",
      "“package ‘parsnip’ was built under R version 4.0.2”\n",
      "Warning message:\n",
      "“package ‘recipes’ was built under R version 4.0.1”\n",
      "Warning message:\n",
      "“package ‘tune’ was built under R version 4.0.2”\n",
      "Warning message:\n",
      "“package ‘workflows’ was built under R version 4.0.2”\n",
      "Warning message:\n",
      "“package ‘yardstick’ was built under R version 4.0.2”\n",
      "── \u001b[1mConflicts\u001b[22m ───────────────────────────────────────── tidymodels_conflicts() ──\n",
      "\u001b[31m✖\u001b[39m \u001b[34mscales\u001b[39m::\u001b[32mdiscard()\u001b[39m masks \u001b[34mpurrr\u001b[39m::discard()\n",
      "\u001b[31m✖\u001b[39m \u001b[34mdplyr\u001b[39m::\u001b[32mfilter()\u001b[39m   masks \u001b[34mstats\u001b[39m::filter()\n",
      "\u001b[31m✖\u001b[39m \u001b[34mrecipes\u001b[39m::\u001b[32mfixed()\u001b[39m  masks \u001b[34mstringr\u001b[39m::fixed()\n",
      "\u001b[31m✖\u001b[39m \u001b[34mdplyr\u001b[39m::\u001b[32mlag()\u001b[39m      masks \u001b[34mstats\u001b[39m::lag()\n",
      "\u001b[31m✖\u001b[39m \u001b[34myardstick\u001b[39m::\u001b[32mspec()\u001b[39m masks \u001b[34mreadr\u001b[39m::spec()\n",
      "\u001b[31m✖\u001b[39m \u001b[34mrecipes\u001b[39m::\u001b[32mstep()\u001b[39m   masks \u001b[34mstats\u001b[39m::step()\n",
      "\n",
      "Warning message in file(filename, \"r\", encoding = encoding):\n",
      "“cannot open file 'tests.R': No such file or directory”\n"
     ]
    },
    {
     "ename": "ERROR",
     "evalue": "Error in file(filename, \"r\", encoding = encoding): cannot open the connection\n",
     "output_type": "error",
     "traceback": [
      "Error in file(filename, \"r\", encoding = encoding): cannot open the connection\nTraceback:\n",
      "1. source(\"tests.R\")",
      "2. file(filename, \"r\", encoding = encoding)"
     ]
    }
   ],
   "source": [
    "### The necessary Libraries required\n",
    "library(tidyverse)\n",
    "library(repr)\n",
    "library(tidymodels)\n",
    "options(repr.matrix.max.rows = 6)\n",
    "source('tests.R')\n",
    "source('cleanup.R')"
   ]
  },
  {
   "cell_type": "code",
   "execution_count": 5,
   "metadata": {},
   "outputs": [
    {
     "name": "stderr",
     "output_type": "stream",
     "text": [
      "Parsed with column specification:\n",
      "cols(\n",
      "  name = \u001b[31mcol_character()\u001b[39m,\n",
      "  year_start = \u001b[32mcol_double()\u001b[39m,\n",
      "  year_end = \u001b[32mcol_double()\u001b[39m,\n",
      "  position = \u001b[31mcol_character()\u001b[39m,\n",
      "  height = \u001b[31mcol_character()\u001b[39m,\n",
      "  weight = \u001b[32mcol_double()\u001b[39m,\n",
      "  birth_date = \u001b[31mcol_character()\u001b[39m,\n",
      "  college = \u001b[31mcol_character()\u001b[39m\n",
      ")\n",
      "\n",
      "Warning message:\n",
      "“Missing column names filled in: 'X1' [1]”\n",
      "Parsed with column specification:\n",
      "cols(\n",
      "  .default = col_double(),\n",
      "  Player = \u001b[31mcol_character()\u001b[39m,\n",
      "  Pos = \u001b[31mcol_character()\u001b[39m,\n",
      "  Tm = \u001b[31mcol_character()\u001b[39m,\n",
      "  GS = \u001b[33mcol_logical()\u001b[39m,\n",
      "  `3PAr` = \u001b[33mcol_logical()\u001b[39m,\n",
      "  `ORB%` = \u001b[33mcol_logical()\u001b[39m,\n",
      "  `DRB%` = \u001b[33mcol_logical()\u001b[39m,\n",
      "  `TRB%` = \u001b[33mcol_logical()\u001b[39m,\n",
      "  `AST%` = \u001b[33mcol_logical()\u001b[39m,\n",
      "  `STL%` = \u001b[33mcol_logical()\u001b[39m,\n",
      "  `BLK%` = \u001b[33mcol_logical()\u001b[39m,\n",
      "  `TOV%` = \u001b[33mcol_logical()\u001b[39m,\n",
      "  `USG%` = \u001b[33mcol_logical()\u001b[39m,\n",
      "  blanl = \u001b[33mcol_logical()\u001b[39m,\n",
      "  blank2 = \u001b[33mcol_logical()\u001b[39m,\n",
      "  OBPM = \u001b[33mcol_logical()\u001b[39m,\n",
      "  DBPM = \u001b[33mcol_logical()\u001b[39m,\n",
      "  BPM = \u001b[33mcol_logical()\u001b[39m,\n",
      "  VORP = \u001b[33mcol_logical()\u001b[39m,\n",
      "  `3P` = \u001b[33mcol_logical()\u001b[39m\n",
      "  # ... with 7 more columns\n",
      ")\n",
      "\n",
      "See spec(...) for full column specifications.\n",
      "\n",
      "Warning message:\n",
      "“394102 parsing failures.\n",
      " row  col           expected actual                     file\n",
      "2080 AST% 1/0/T/F/TRUE/FALSE   13.5 'data/Seasons_Stats.csv'\n",
      "2081 AST% 1/0/T/F/TRUE/FALSE   16.6 'data/Seasons_Stats.csv'\n",
      "2082 AST% 1/0/T/F/TRUE/FALSE   5.3  'data/Seasons_Stats.csv'\n",
      "2083 AST% 1/0/T/F/TRUE/FALSE   11.6 'data/Seasons_Stats.csv'\n",
      "2084 AST% 1/0/T/F/TRUE/FALSE   14.1 'data/Seasons_Stats.csv'\n",
      ".... .... .................. ...... ........................\n",
      "See problems(...) for more details.\n",
      "”\n"
     ]
    },
    {
     "data": {
      "text/html": [
       "<table>\n",
       "<caption>A spec_tbl_df: 4550 × 8</caption>\n",
       "<thead>\n",
       "\t<tr><th scope=col>name</th><th scope=col>year_start</th><th scope=col>year_end</th><th scope=col>position</th><th scope=col>height</th><th scope=col>weight</th><th scope=col>birth_date</th><th scope=col>college</th></tr>\n",
       "\t<tr><th scope=col>&lt;chr&gt;</th><th scope=col>&lt;dbl&gt;</th><th scope=col>&lt;dbl&gt;</th><th scope=col>&lt;chr&gt;</th><th scope=col>&lt;chr&gt;</th><th scope=col>&lt;dbl&gt;</th><th scope=col>&lt;chr&gt;</th><th scope=col>&lt;chr&gt;</th></tr>\n",
       "</thead>\n",
       "<tbody>\n",
       "\t<tr><td>Alaa Abdelnaby     </td><td>1991</td><td>1995</td><td>F-C</td><td>6-10</td><td>240</td><td>June 24, 1968 </td><td>Duke University                      </td></tr>\n",
       "\t<tr><td>Zaid Abdul-Aziz    </td><td>1969</td><td>1978</td><td>C-F</td><td>6-9 </td><td>235</td><td>April 7, 1946 </td><td>Iowa State University                </td></tr>\n",
       "\t<tr><td>Kareem Abdul-Jabbar</td><td>1970</td><td>1989</td><td>C  </td><td>7-2 </td><td>225</td><td>April 16, 1947</td><td>University of California, Los Angeles</td></tr>\n",
       "\t<tr><td>⋮</td><td>⋮</td><td>⋮</td><td>⋮</td><td>⋮</td><td>⋮</td><td>⋮</td><td>⋮</td></tr>\n",
       "\t<tr><td>Bill Zopf  </td><td>1971</td><td>1971</td><td>G  </td><td>6-1</td><td>170</td><td>June 7, 1948     </td><td>Duquesne University         </td></tr>\n",
       "\t<tr><td>Ivica Zubac</td><td>2017</td><td>2018</td><td>C  </td><td>7-1</td><td>265</td><td>March 18, 1997   </td><td>NA                          </td></tr>\n",
       "\t<tr><td>Matt Zunic </td><td>1949</td><td>1949</td><td>G-F</td><td>6-3</td><td>195</td><td>December 19, 1919</td><td>George Washington University</td></tr>\n",
       "</tbody>\n",
       "</table>\n"
      ],
      "text/latex": [
       "A spec\\_tbl\\_df: 4550 × 8\n",
       "\\begin{tabular}{llllllll}\n",
       " name & year\\_start & year\\_end & position & height & weight & birth\\_date & college\\\\\n",
       " <chr> & <dbl> & <dbl> & <chr> & <chr> & <dbl> & <chr> & <chr>\\\\\n",
       "\\hline\n",
       "\t Alaa Abdelnaby      & 1991 & 1995 & F-C & 6-10 & 240 & June 24, 1968  & Duke University                      \\\\\n",
       "\t Zaid Abdul-Aziz     & 1969 & 1978 & C-F & 6-9  & 235 & April 7, 1946  & Iowa State University                \\\\\n",
       "\t Kareem Abdul-Jabbar & 1970 & 1989 & C   & 7-2  & 225 & April 16, 1947 & University of California, Los Angeles\\\\\n",
       "\t ⋮ & ⋮ & ⋮ & ⋮ & ⋮ & ⋮ & ⋮ & ⋮\\\\\n",
       "\t Bill Zopf   & 1971 & 1971 & G   & 6-1 & 170 & June 7, 1948      & Duquesne University         \\\\\n",
       "\t Ivica Zubac & 2017 & 2018 & C   & 7-1 & 265 & March 18, 1997    & NA                          \\\\\n",
       "\t Matt Zunic  & 1949 & 1949 & G-F & 6-3 & 195 & December 19, 1919 & George Washington University\\\\\n",
       "\\end{tabular}\n"
      ],
      "text/markdown": [
       "\n",
       "A spec_tbl_df: 4550 × 8\n",
       "\n",
       "| name &lt;chr&gt; | year_start &lt;dbl&gt; | year_end &lt;dbl&gt; | position &lt;chr&gt; | height &lt;chr&gt; | weight &lt;dbl&gt; | birth_date &lt;chr&gt; | college &lt;chr&gt; |\n",
       "|---|---|---|---|---|---|---|---|\n",
       "| Alaa Abdelnaby      | 1991 | 1995 | F-C | 6-10 | 240 | June 24, 1968  | Duke University                       |\n",
       "| Zaid Abdul-Aziz     | 1969 | 1978 | C-F | 6-9  | 235 | April 7, 1946  | Iowa State University                 |\n",
       "| Kareem Abdul-Jabbar | 1970 | 1989 | C   | 7-2  | 225 | April 16, 1947 | University of California, Los Angeles |\n",
       "| ⋮ | ⋮ | ⋮ | ⋮ | ⋮ | ⋮ | ⋮ | ⋮ |\n",
       "| Bill Zopf   | 1971 | 1971 | G   | 6-1 | 170 | June 7, 1948      | Duquesne University          |\n",
       "| Ivica Zubac | 2017 | 2018 | C   | 7-1 | 265 | March 18, 1997    | NA                           |\n",
       "| Matt Zunic  | 1949 | 1949 | G-F | 6-3 | 195 | December 19, 1919 | George Washington University |\n",
       "\n"
      ],
      "text/plain": [
       "     name                year_start year_end position height weight\n",
       "1    Alaa Abdelnaby      1991       1995     F-C      6-10   240   \n",
       "2    Zaid Abdul-Aziz     1969       1978     C-F      6-9    235   \n",
       "3    Kareem Abdul-Jabbar 1970       1989     C        7-2    225   \n",
       "⋮    ⋮                   ⋮          ⋮        ⋮        ⋮      ⋮     \n",
       "4548 Bill Zopf           1971       1971     G        6-1    170   \n",
       "4549 Ivica Zubac         2017       2018     C        7-1    265   \n",
       "4550 Matt Zunic          1949       1949     G-F      6-3    195   \n",
       "     birth_date        college                              \n",
       "1    June 24, 1968     Duke University                      \n",
       "2    April 7, 1946     Iowa State University                \n",
       "3    April 16, 1947    University of California, Los Angeles\n",
       "⋮    ⋮                 ⋮                                    \n",
       "4548 June 7, 1948      Duquesne University                  \n",
       "4549 March 18, 1997    NA                                   \n",
       "4550 December 19, 1919 George Washington University         "
      ]
     },
     "metadata": {},
     "output_type": "display_data"
    },
    {
     "ename": "ERROR",
     "evalue": "Error in eval(expr, envir, enclos): object 'season_stats' not found\n",
     "output_type": "error",
     "traceback": [
      "Error in eval(expr, envir, enclos): object 'season_stats' not found\nTraceback:\n"
     ]
    }
   ],
   "source": [
    "player_data <- read_csv(\"data/player_data.csv\")\n",
    "season_data <- read_csv(\"data/Seasons_Stats.csv\")\n",
    "\n",
    "player_data\n",
    "season_stats"
   ]
  },
  {
   "cell_type": "code",
   "execution_count": 6,
   "metadata": {},
   "outputs": [],
   "source": [
    "## Now that we loaded our stats the next step is to wrangle. There is a bunch of information that is not required in the knn analysis"
   ]
  },
  {
   "cell_type": "code",
   "execution_count": 31,
   "metadata": {},
   "outputs": [
    {
     "data": {
      "text/html": [
       "<table>\n",
       "<caption>A grouped_df: 595 × 53</caption>\n",
       "<thead>\n",
       "\t<tr><th scope=col>X1</th><th scope=col>Year</th><th scope=col>Player</th><th scope=col>Pos</th><th scope=col>Age</th><th scope=col>Tm</th><th scope=col>G</th><th scope=col>GS</th><th scope=col>MP</th><th scope=col>PER</th><th scope=col>⋯</th><th scope=col>FT%</th><th scope=col>ORB</th><th scope=col>DRB</th><th scope=col>TRB</th><th scope=col>AST</th><th scope=col>STL</th><th scope=col>BLK</th><th scope=col>TOV</th><th scope=col>PF</th><th scope=col>PTS</th></tr>\n",
       "\t<tr><th scope=col>&lt;dbl&gt;</th><th scope=col>&lt;dbl&gt;</th><th scope=col>&lt;chr&gt;</th><th scope=col>&lt;chr&gt;</th><th scope=col>&lt;dbl&gt;</th><th scope=col>&lt;chr&gt;</th><th scope=col>&lt;dbl&gt;</th><th scope=col>&lt;lgl&gt;</th><th scope=col>&lt;dbl&gt;</th><th scope=col>&lt;dbl&gt;</th><th scope=col>⋯</th><th scope=col>&lt;dbl&gt;</th><th scope=col>&lt;lgl&gt;</th><th scope=col>&lt;lgl&gt;</th><th scope=col>&lt;dbl&gt;</th><th scope=col>&lt;dbl&gt;</th><th scope=col>&lt;lgl&gt;</th><th scope=col>&lt;lgl&gt;</th><th scope=col>&lt;lgl&gt;</th><th scope=col>&lt;dbl&gt;</th><th scope=col>&lt;dbl&gt;</th></tr>\n",
       "</thead>\n",
       "<tbody>\n",
       "\t<tr><td>24096</td><td>2017</td><td>Alex Abrines</td><td>SG</td><td>23</td><td>OKC</td><td>68</td><td>   NA</td><td>1055</td><td>10.1</td><td>⋯</td><td>0.898</td><td>NA</td><td>NA</td><td> 86</td><td>40</td><td>   NA</td><td>   NA</td><td>NA</td><td>114</td><td>406</td></tr>\n",
       "\t<tr><td>24097</td><td>2017</td><td>Quincy Acy  </td><td>PF</td><td>26</td><td>TOT</td><td>38</td><td> TRUE</td><td> 558</td><td>11.8</td><td>⋯</td><td>0.750</td><td>NA</td><td>NA</td><td>115</td><td>18</td><td>   NA</td><td>   NA</td><td>NA</td><td> 67</td><td>222</td></tr>\n",
       "\t<tr><td>24098</td><td>2017</td><td>Quincy Acy  </td><td>PF</td><td>26</td><td>DAL</td><td> 6</td><td>FALSE</td><td>  48</td><td>-1.4</td><td>⋯</td><td>0.667</td><td>NA</td><td>NA</td><td>  8</td><td> 0</td><td>FALSE</td><td>FALSE</td><td>NA</td><td>  9</td><td> 13</td></tr>\n",
       "\t<tr><td>⋮</td><td>⋮</td><td>⋮</td><td>⋮</td><td>⋮</td><td>⋮</td><td>⋮</td><td>⋮</td><td>⋮</td><td>⋮</td><td>⋱</td><td>⋮</td><td>⋮</td><td>⋮</td><td>⋮</td><td>⋮</td><td>⋮</td><td>⋮</td><td>⋮</td><td>⋮</td><td>⋮</td></tr>\n",
       "\t<tr><td>24688</td><td>2017</td><td>Stephen Zimmerman</td><td>C </td><td>20</td><td>ORL</td><td>19</td><td>FALSE</td><td>108</td><td> 7.3</td><td>⋯</td><td>0.600</td><td>NA</td><td>NA</td><td> 35</td><td> 4</td><td>NA</td><td>NA</td><td>NA</td><td>17</td><td> 23</td></tr>\n",
       "\t<tr><td>24689</td><td>2017</td><td>Paul Zipser      </td><td>SF</td><td>22</td><td>CHI</td><td>44</td><td>   NA</td><td>843</td><td> 6.9</td><td>⋯</td><td>0.775</td><td>NA</td><td>NA</td><td>125</td><td>36</td><td>NA</td><td>NA</td><td>NA</td><td>78</td><td>240</td></tr>\n",
       "\t<tr><td>24690</td><td>2017</td><td>Ivica Zubac      </td><td>C </td><td>19</td><td>LAL</td><td>38</td><td>   NA</td><td>609</td><td>17.0</td><td>⋯</td><td>0.653</td><td>NA</td><td>NA</td><td>159</td><td>30</td><td>NA</td><td>NA</td><td>NA</td><td>66</td><td>284</td></tr>\n",
       "</tbody>\n",
       "</table>\n"
      ],
      "text/latex": [
       "A grouped\\_df: 595 × 53\n",
       "\\begin{tabular}{lllllllllllllllllllll}\n",
       " X1 & Year & Player & Pos & Age & Tm & G & GS & MP & PER & ⋯ & FT\\% & ORB & DRB & TRB & AST & STL & BLK & TOV & PF & PTS\\\\\n",
       " <dbl> & <dbl> & <chr> & <chr> & <dbl> & <chr> & <dbl> & <lgl> & <dbl> & <dbl> & ⋯ & <dbl> & <lgl> & <lgl> & <dbl> & <dbl> & <lgl> & <lgl> & <lgl> & <dbl> & <dbl>\\\\\n",
       "\\hline\n",
       "\t 24096 & 2017 & Alex Abrines & SG & 23 & OKC & 68 &    NA & 1055 & 10.1 & ⋯ & 0.898 & NA & NA &  86 & 40 &    NA &    NA & NA & 114 & 406\\\\\n",
       "\t 24097 & 2017 & Quincy Acy   & PF & 26 & TOT & 38 &  TRUE &  558 & 11.8 & ⋯ & 0.750 & NA & NA & 115 & 18 &    NA &    NA & NA &  67 & 222\\\\\n",
       "\t 24098 & 2017 & Quincy Acy   & PF & 26 & DAL &  6 & FALSE &   48 & -1.4 & ⋯ & 0.667 & NA & NA &   8 &  0 & FALSE & FALSE & NA &   9 &  13\\\\\n",
       "\t ⋮ & ⋮ & ⋮ & ⋮ & ⋮ & ⋮ & ⋮ & ⋮ & ⋮ & ⋮ & ⋱ & ⋮ & ⋮ & ⋮ & ⋮ & ⋮ & ⋮ & ⋮ & ⋮ & ⋮ & ⋮\\\\\n",
       "\t 24688 & 2017 & Stephen Zimmerman & C  & 20 & ORL & 19 & FALSE & 108 &  7.3 & ⋯ & 0.600 & NA & NA &  35 &  4 & NA & NA & NA & 17 &  23\\\\\n",
       "\t 24689 & 2017 & Paul Zipser       & SF & 22 & CHI & 44 &    NA & 843 &  6.9 & ⋯ & 0.775 & NA & NA & 125 & 36 & NA & NA & NA & 78 & 240\\\\\n",
       "\t 24690 & 2017 & Ivica Zubac       & C  & 19 & LAL & 38 &    NA & 609 & 17.0 & ⋯ & 0.653 & NA & NA & 159 & 30 & NA & NA & NA & 66 & 284\\\\\n",
       "\\end{tabular}\n"
      ],
      "text/markdown": [
       "\n",
       "A grouped_df: 595 × 53\n",
       "\n",
       "| X1 &lt;dbl&gt; | Year &lt;dbl&gt; | Player &lt;chr&gt; | Pos &lt;chr&gt; | Age &lt;dbl&gt; | Tm &lt;chr&gt; | G &lt;dbl&gt; | GS &lt;lgl&gt; | MP &lt;dbl&gt; | PER &lt;dbl&gt; | ⋯ ⋯ | FT% &lt;dbl&gt; | ORB &lt;lgl&gt; | DRB &lt;lgl&gt; | TRB &lt;dbl&gt; | AST &lt;dbl&gt; | STL &lt;lgl&gt; | BLK &lt;lgl&gt; | TOV &lt;lgl&gt; | PF &lt;dbl&gt; | PTS &lt;dbl&gt; |\n",
       "|---|---|---|---|---|---|---|---|---|---|---|---|---|---|---|---|---|---|---|---|---|\n",
       "| 24096 | 2017 | Alex Abrines | SG | 23 | OKC | 68 |    NA | 1055 | 10.1 | ⋯ | 0.898 | NA | NA |  86 | 40 |    NA |    NA | NA | 114 | 406 |\n",
       "| 24097 | 2017 | Quincy Acy   | PF | 26 | TOT | 38 |  TRUE |  558 | 11.8 | ⋯ | 0.750 | NA | NA | 115 | 18 |    NA |    NA | NA |  67 | 222 |\n",
       "| 24098 | 2017 | Quincy Acy   | PF | 26 | DAL |  6 | FALSE |   48 | -1.4 | ⋯ | 0.667 | NA | NA |   8 |  0 | FALSE | FALSE | NA |   9 |  13 |\n",
       "| ⋮ | ⋮ | ⋮ | ⋮ | ⋮ | ⋮ | ⋮ | ⋮ | ⋮ | ⋮ | ⋱ | ⋮ | ⋮ | ⋮ | ⋮ | ⋮ | ⋮ | ⋮ | ⋮ | ⋮ | ⋮ |\n",
       "| 24688 | 2017 | Stephen Zimmerman | C  | 20 | ORL | 19 | FALSE | 108 |  7.3 | ⋯ | 0.600 | NA | NA |  35 |  4 | NA | NA | NA | 17 |  23 |\n",
       "| 24689 | 2017 | Paul Zipser       | SF | 22 | CHI | 44 |    NA | 843 |  6.9 | ⋯ | 0.775 | NA | NA | 125 | 36 | NA | NA | NA | 78 | 240 |\n",
       "| 24690 | 2017 | Ivica Zubac       | C  | 19 | LAL | 38 |    NA | 609 | 17.0 | ⋯ | 0.653 | NA | NA | 159 | 30 | NA | NA | NA | 66 | 284 |\n",
       "\n"
      ],
      "text/plain": [
       "    X1    Year Player            Pos Age Tm  G  GS    MP   PER  ⋯ FT%   ORB DRB\n",
       "1   24096 2017 Alex Abrines      SG  23  OKC 68    NA 1055 10.1 ⋯ 0.898 NA  NA \n",
       "2   24097 2017 Quincy Acy        PF  26  TOT 38  TRUE  558 11.8 ⋯ 0.750 NA  NA \n",
       "3   24098 2017 Quincy Acy        PF  26  DAL  6 FALSE   48 -1.4 ⋯ 0.667 NA  NA \n",
       "⋮   ⋮     ⋮    ⋮                 ⋮   ⋮   ⋮   ⋮  ⋮     ⋮    ⋮    ⋱ ⋮     ⋮   ⋮  \n",
       "593 24688 2017 Stephen Zimmerman C   20  ORL 19 FALSE 108   7.3 ⋯ 0.600 NA  NA \n",
       "594 24689 2017 Paul Zipser       SF  22  CHI 44    NA 843   6.9 ⋯ 0.775 NA  NA \n",
       "595 24690 2017 Ivica Zubac       C   19  LAL 38    NA 609  17.0 ⋯ 0.653 NA  NA \n",
       "    TRB AST STL   BLK   TOV PF  PTS\n",
       "1    86 40     NA    NA NA  114 406\n",
       "2   115 18     NA    NA NA   67 222\n",
       "3     8  0  FALSE FALSE NA    9  13\n",
       "⋮   ⋮   ⋮   ⋮     ⋮     ⋮   ⋮   ⋮  \n",
       "593  35  4  NA    NA    NA  17   23\n",
       "594 125 36  NA    NA    NA  78  240\n",
       "595 159 30  NA    NA    NA  66  284"
      ]
     },
     "metadata": {},
     "output_type": "display_data"
    }
   ],
   "source": [
    "#Wrangling\n",
    "#We only want players in 2017, this is the most current reported data\n",
    "\n",
    "# player_data_2017 <- filter(player_data, Year == \"2017\")\n",
    "# player_data_2017\n",
    "\n",
    "season_data_2017 <- filter(season_data, Year == \"2017\") %>%\n",
    "    group_by(Player)\n",
    "season_data_2017\n",
    "\n",
    "\n",
    "#We want the predicted class: Pos \n",
    "#We want \n",
    "\n",
    "\n",
    "# combined_data_set <- select(season_stats, ) %>%\n",
    "#     select()\n"
   ]
  },
  {
   "cell_type": "code",
   "execution_count": 32,
   "metadata": {},
   "outputs": [
    {
     "name": "stderr",
     "output_type": "stream",
     "text": [
      "`summarise()` regrouping output by 'Player' (override with `.groups` argument)\n",
      "\n"
     ]
    },
    {
     "data": {
      "text/html": [
       "<table>\n",
       "<caption>A grouped_df: 595 × 58</caption>\n",
       "<thead>\n",
       "\t<tr><th scope=col>Player</th><th scope=col>X1</th><th scope=col>Year</th><th scope=col>Pos</th><th scope=col>Age</th><th scope=col>Tm</th><th scope=col>G</th><th scope=col>GS</th><th scope=col>MP</th><th scope=col>PER</th><th scope=col>⋯</th><th scope=col>STL</th><th scope=col>BLK</th><th scope=col>TOV</th><th scope=col>PF</th><th scope=col>PTS</th><th scope=col>PPG</th><th scope=col>APG</th><th scope=col>RPG</th><th scope=col>SPG</th><th scope=col>BPG</th></tr>\n",
       "\t<tr><th scope=col>&lt;fct&gt;</th><th scope=col>&lt;dbl&gt;</th><th scope=col>&lt;dbl&gt;</th><th scope=col>&lt;chr&gt;</th><th scope=col>&lt;dbl&gt;</th><th scope=col>&lt;chr&gt;</th><th scope=col>&lt;dbl&gt;</th><th scope=col>&lt;lgl&gt;</th><th scope=col>&lt;dbl&gt;</th><th scope=col>&lt;dbl&gt;</th><th scope=col>⋯</th><th scope=col>&lt;lgl&gt;</th><th scope=col>&lt;lgl&gt;</th><th scope=col>&lt;lgl&gt;</th><th scope=col>&lt;dbl&gt;</th><th scope=col>&lt;dbl&gt;</th><th scope=col>&lt;dbl&gt;</th><th scope=col>&lt;dbl&gt;</th><th scope=col>&lt;dbl&gt;</th><th scope=col>&lt;dbl&gt;</th><th scope=col>&lt;dbl&gt;</th></tr>\n",
       "</thead>\n",
       "<tbody>\n",
       "\t<tr><td>A.J. Hammons</td><td>24304</td><td>2017</td><td>C </td><td>24</td><td>DAL</td><td>22</td><td>FALSE</td><td> 163</td><td> 8.4</td><td>⋯</td><td>TRUE</td><td>NA</td><td>NA</td><td> 21</td><td>  48</td><td> 2.181818</td><td>0.1818182</td><td>1.636364</td><td>0.04545455</td><td>NA</td></tr>\n",
       "\t<tr><td>Aaron Brooks</td><td>24165</td><td>2017</td><td>PG</td><td>32</td><td>IND</td><td>65</td><td>FALSE</td><td> 894</td><td> 9.5</td><td>⋯</td><td>  NA</td><td>NA</td><td>NA</td><td> 93</td><td> 322</td><td> 4.953846</td><td>1.9230769</td><td>1.061538</td><td>        NA</td><td>NA</td></tr>\n",
       "\t<tr><td>Aaron Gordon</td><td>24289</td><td>2017</td><td>SF</td><td>21</td><td>ORL</td><td>80</td><td>   NA</td><td>2298</td><td>14.4</td><td>⋯</td><td>  NA</td><td>NA</td><td>NA</td><td>172</td><td>1019</td><td>12.737500</td><td>1.8750000</td><td>5.062500</td><td>        NA</td><td>NA</td></tr>\n",
       "\t<tr><td>⋮</td><td>⋮</td><td>⋮</td><td>⋮</td><td>⋮</td><td>⋮</td><td>⋮</td><td>⋮</td><td>⋮</td><td>⋮</td><td>⋱</td><td>⋮</td><td>⋮</td><td>⋮</td><td>⋮</td><td>⋮</td><td>⋮</td><td>⋮</td><td>⋮</td><td>⋮</td><td>⋮</td></tr>\n",
       "\t<tr><td>Zach LaVine  </td><td>24408</td><td>2017</td><td>SG</td><td>21</td><td>MIN</td><td>47</td><td>NA</td><td>1749</td><td>14.6</td><td>⋯</td><td>NA</td><td>NA</td><td>NA</td><td>104</td><td> 889</td><td>18.914894</td><td>2.957447</td><td>3.382979</td><td>NA</td><td>NA</td></tr>\n",
       "\t<tr><td>Zach Randolph</td><td>24550</td><td>2017</td><td>PF</td><td>35</td><td>MEM</td><td>73</td><td>NA</td><td>1786</td><td>18.5</td><td>⋯</td><td>NA</td><td>NA</td><td>NA</td><td>136</td><td>1028</td><td>14.082192</td><td>1.671233</td><td>8.191781</td><td>NA</td><td>NA</td></tr>\n",
       "\t<tr><td>Zaza Pachulia</td><td>24515</td><td>2017</td><td>C </td><td>32</td><td>GSW</td><td>70</td><td>NA</td><td>1268</td><td>16.1</td><td>⋯</td><td>NA</td><td>NA</td><td>NA</td><td>166</td><td> 426</td><td> 6.085714</td><td>1.885714</td><td>5.857143</td><td>NA</td><td>NA</td></tr>\n",
       "</tbody>\n",
       "</table>\n"
      ],
      "text/latex": [
       "A grouped\\_df: 595 × 58\n",
       "\\begin{tabular}{lllllllllllllllllllll}\n",
       " Player & X1 & Year & Pos & Age & Tm & G & GS & MP & PER & ⋯ & STL & BLK & TOV & PF & PTS & PPG & APG & RPG & SPG & BPG\\\\\n",
       " <fct> & <dbl> & <dbl> & <chr> & <dbl> & <chr> & <dbl> & <lgl> & <dbl> & <dbl> & ⋯ & <lgl> & <lgl> & <lgl> & <dbl> & <dbl> & <dbl> & <dbl> & <dbl> & <dbl> & <dbl>\\\\\n",
       "\\hline\n",
       "\t A.J. Hammons & 24304 & 2017 & C  & 24 & DAL & 22 & FALSE &  163 &  8.4 & ⋯ & TRUE & NA & NA &  21 &   48 &  2.181818 & 0.1818182 & 1.636364 & 0.04545455 & NA\\\\\n",
       "\t Aaron Brooks & 24165 & 2017 & PG & 32 & IND & 65 & FALSE &  894 &  9.5 & ⋯ &   NA & NA & NA &  93 &  322 &  4.953846 & 1.9230769 & 1.061538 &         NA & NA\\\\\n",
       "\t Aaron Gordon & 24289 & 2017 & SF & 21 & ORL & 80 &    NA & 2298 & 14.4 & ⋯ &   NA & NA & NA & 172 & 1019 & 12.737500 & 1.8750000 & 5.062500 &         NA & NA\\\\\n",
       "\t ⋮ & ⋮ & ⋮ & ⋮ & ⋮ & ⋮ & ⋮ & ⋮ & ⋮ & ⋮ & ⋱ & ⋮ & ⋮ & ⋮ & ⋮ & ⋮ & ⋮ & ⋮ & ⋮ & ⋮ & ⋮\\\\\n",
       "\t Zach LaVine   & 24408 & 2017 & SG & 21 & MIN & 47 & NA & 1749 & 14.6 & ⋯ & NA & NA & NA & 104 &  889 & 18.914894 & 2.957447 & 3.382979 & NA & NA\\\\\n",
       "\t Zach Randolph & 24550 & 2017 & PF & 35 & MEM & 73 & NA & 1786 & 18.5 & ⋯ & NA & NA & NA & 136 & 1028 & 14.082192 & 1.671233 & 8.191781 & NA & NA\\\\\n",
       "\t Zaza Pachulia & 24515 & 2017 & C  & 32 & GSW & 70 & NA & 1268 & 16.1 & ⋯ & NA & NA & NA & 166 &  426 &  6.085714 & 1.885714 & 5.857143 & NA & NA\\\\\n",
       "\\end{tabular}\n"
      ],
      "text/markdown": [
       "\n",
       "A grouped_df: 595 × 58\n",
       "\n",
       "| Player &lt;fct&gt; | X1 &lt;dbl&gt; | Year &lt;dbl&gt; | Pos &lt;chr&gt; | Age &lt;dbl&gt; | Tm &lt;chr&gt; | G &lt;dbl&gt; | GS &lt;lgl&gt; | MP &lt;dbl&gt; | PER &lt;dbl&gt; | ⋯ ⋯ | STL &lt;lgl&gt; | BLK &lt;lgl&gt; | TOV &lt;lgl&gt; | PF &lt;dbl&gt; | PTS &lt;dbl&gt; | PPG &lt;dbl&gt; | APG &lt;dbl&gt; | RPG &lt;dbl&gt; | SPG &lt;dbl&gt; | BPG &lt;dbl&gt; |\n",
       "|---|---|---|---|---|---|---|---|---|---|---|---|---|---|---|---|---|---|---|---|---|\n",
       "| A.J. Hammons | 24304 | 2017 | C  | 24 | DAL | 22 | FALSE |  163 |  8.4 | ⋯ | TRUE | NA | NA |  21 |   48 |  2.181818 | 0.1818182 | 1.636364 | 0.04545455 | NA |\n",
       "| Aaron Brooks | 24165 | 2017 | PG | 32 | IND | 65 | FALSE |  894 |  9.5 | ⋯ |   NA | NA | NA |  93 |  322 |  4.953846 | 1.9230769 | 1.061538 |         NA | NA |\n",
       "| Aaron Gordon | 24289 | 2017 | SF | 21 | ORL | 80 |    NA | 2298 | 14.4 | ⋯ |   NA | NA | NA | 172 | 1019 | 12.737500 | 1.8750000 | 5.062500 |         NA | NA |\n",
       "| ⋮ | ⋮ | ⋮ | ⋮ | ⋮ | ⋮ | ⋮ | ⋮ | ⋮ | ⋮ | ⋱ | ⋮ | ⋮ | ⋮ | ⋮ | ⋮ | ⋮ | ⋮ | ⋮ | ⋮ | ⋮ |\n",
       "| Zach LaVine   | 24408 | 2017 | SG | 21 | MIN | 47 | NA | 1749 | 14.6 | ⋯ | NA | NA | NA | 104 |  889 | 18.914894 | 2.957447 | 3.382979 | NA | NA |\n",
       "| Zach Randolph | 24550 | 2017 | PF | 35 | MEM | 73 | NA | 1786 | 18.5 | ⋯ | NA | NA | NA | 136 | 1028 | 14.082192 | 1.671233 | 8.191781 | NA | NA |\n",
       "| Zaza Pachulia | 24515 | 2017 | C  | 32 | GSW | 70 | NA | 1268 | 16.1 | ⋯ | NA | NA | NA | 166 |  426 |  6.085714 | 1.885714 | 5.857143 | NA | NA |\n",
       "\n"
      ],
      "text/plain": [
       "    Player        X1    Year Pos Age Tm  G  GS    MP   PER  ⋯ STL  BLK TOV PF \n",
       "1   A.J. Hammons  24304 2017 C   24  DAL 22 FALSE  163  8.4 ⋯ TRUE NA  NA   21\n",
       "2   Aaron Brooks  24165 2017 PG  32  IND 65 FALSE  894  9.5 ⋯   NA NA  NA   93\n",
       "3   Aaron Gordon  24289 2017 SF  21  ORL 80    NA 2298 14.4 ⋯   NA NA  NA  172\n",
       "⋮   ⋮             ⋮     ⋮    ⋮   ⋮   ⋮   ⋮  ⋮     ⋮    ⋮    ⋱ ⋮    ⋮   ⋮   ⋮  \n",
       "593 Zach LaVine   24408 2017 SG  21  MIN 47 NA    1749 14.6 ⋯ NA   NA  NA  104\n",
       "594 Zach Randolph 24550 2017 PF  35  MEM 73 NA    1786 18.5 ⋯ NA   NA  NA  136\n",
       "595 Zaza Pachulia 24515 2017 C   32  GSW 70 NA    1268 16.1 ⋯ NA   NA  NA  166\n",
       "    PTS  PPG       APG       RPG      SPG        BPG\n",
       "1     48  2.181818 0.1818182 1.636364 0.04545455 NA \n",
       "2    322  4.953846 1.9230769 1.061538         NA NA \n",
       "3   1019 12.737500 1.8750000 5.062500         NA NA \n",
       "⋮   ⋮    ⋮         ⋮         ⋮        ⋮          ⋮  \n",
       "593  889 18.914894 2.957447  3.382979 NA         NA \n",
       "594 1028 14.082192 1.671233  8.191781 NA         NA \n",
       "595  426  6.085714 1.885714  5.857143 NA         NA "
      ]
     },
     "metadata": {},
     "output_type": "display_data"
    }
   ],
   "source": [
    "#convert wanted parameters to class\n",
    "season_data_2017 <- season_data_2017 %>%\n",
    "    mutate(Player = as_factor(Player)) %>%\n",
    "    mutate(PPG = PTS/G) %>%\n",
    "    mutate(APG = AST/G) %>%\n",
    "    mutate(RPG = TRB/G) %>%\n",
    "    mutate(SPG = STL/G) %>% #just for experimentation\n",
    "    mutate(BPG = BLK/G) %>%\n",
    "\n",
    "    #select(Player, PPG, APG, RPG, SPG, BPG, \"3P%\",\"2P%\", \"FT%\", \"FG%\" ) %>%\n",
    "    summarize(across(na.rm = TRUE))\n",
    "season_data_2017"
   ]
  },
  {
   "cell_type": "code",
   "execution_count": 3,
   "metadata": {},
   "outputs": [],
   "source": [
    "# sample graph\n",
    "ggplot()\n",
    "    "
   ]
  },
  {
   "cell_type": "code",
   "execution_count": null,
   "metadata": {},
   "outputs": [],
   "source": []
  },
  {
   "cell_type": "code",
   "execution_count": null,
   "metadata": {},
   "outputs": [],
   "source": []
  }
 ],
 "metadata": {
  "kernelspec": {
   "display_name": "R",
   "language": "R",
   "name": "ir"
  },
  "language_info": {
   "codemirror_mode": "r",
   "file_extension": ".r",
   "mimetype": "text/x-r-source",
   "name": "R",
   "pygments_lexer": "r",
   "version": "4.0.0"
  }
 },
 "nbformat": 4,
 "nbformat_minor": 4
}
