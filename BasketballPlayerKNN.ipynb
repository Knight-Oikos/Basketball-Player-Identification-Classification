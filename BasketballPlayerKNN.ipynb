{
 "cells": [
  {
   "cell_type": "code",
   "execution_count": null,
   "metadata": {},
   "outputs": [],
   "source": [
    "# Section 007 Group 02 Basketball Player Position Classification\n",
    "# This project will include KNN classification for different basketball player positions based on player's physical and game statstics\n",
    "# That being said, the algorithm will be able to predict a basketball player just entering any parameters"
   ]
  },
  {
   "cell_type": "code",
   "execution_count": null,
   "metadata": {},
   "outputs": [
    {
     "name": "stderr",
     "output_type": "stream",
     "text": [
      "── \u001b[1mAttaching packages\u001b[22m ─────────────────────────────────────── tidyverse 1.3.0 ──\n",
      "\n",
      "\u001b[32m✔\u001b[39m \u001b[34mggplot2\u001b[39m 3.3.2     \u001b[32m✔\u001b[39m \u001b[34mpurrr  \u001b[39m 0.3.4\n",
      "\u001b[32m✔\u001b[39m \u001b[34mtibble \u001b[39m 3.0.3     \u001b[32m✔\u001b[39m \u001b[34mdplyr  \u001b[39m 1.0.2\n",
      "\u001b[32m✔\u001b[39m \u001b[34mtidyr  \u001b[39m 1.1.2     \u001b[32m✔\u001b[39m \u001b[34mstringr\u001b[39m 1.4.0\n",
      "\u001b[32m✔\u001b[39m \u001b[34mreadr  \u001b[39m 1.3.1     \u001b[32m✔\u001b[39m \u001b[34mforcats\u001b[39m 0.5.0\n",
      "\n",
      "Warning message:\n",
      "“package ‘ggplot2’ was built under R version 4.0.1”\n",
      "Warning message:\n",
      "“package ‘tibble’ was built under R version 4.0.2”\n",
      "Warning message:\n",
      "“package ‘tidyr’ was built under R version 4.0.2”\n",
      "Warning message:\n",
      "“package ‘dplyr’ was built under R version 4.0.2”\n",
      "── \u001b[1mConflicts\u001b[22m ────────────────────────────────────────── tidyverse_conflicts() ──\n",
      "\u001b[31m✖\u001b[39m \u001b[34mdplyr\u001b[39m::\u001b[32mfilter()\u001b[39m masks \u001b[34mstats\u001b[39m::filter()\n",
      "\u001b[31m✖\u001b[39m \u001b[34mdplyr\u001b[39m::\u001b[32mlag()\u001b[39m    masks \u001b[34mstats\u001b[39m::lag()\n",
      "\n",
      "Warning message:\n",
      "“package ‘tidymodels’ was built under R version 4.0.2”\n"
     ]
    }
   ],
   "source": [
    "### The necessary Libraries required\n",
    "# install.packages(\"stringr\")\n",
    "library(tidyverse)\n",
    "library(stringr)\n",
    "library(repr)\n",
    "library(tidymodels)\n",
    "options(repr.matrix.max.rows = 6)\n",
    "source('tests.R')\n",
    "source('cleanup.R')"
   ]
  },
  {
   "cell_type": "code",
   "execution_count": null,
   "metadata": {},
   "outputs": [],
   "source": [
    "?str_detect"
   ]
  },
  {
   "cell_type": "code",
   "execution_count": null,
   "metadata": {},
   "outputs": [],
   "source": [
    "player_data <- read_csv(\"data/player_data.csv\")\n",
    "season_data <- read_csv(\"data/Seasons_Stats.csv\")\n",
    "\n",
    "player_data\n",
    "season_stats"
   ]
  },
  {
   "cell_type": "code",
   "execution_count": 2,
   "metadata": {},
   "outputs": [],
   "source": [
    "## Now that we loaded our stats the next step is to wrangle. There is a bunch of information that is not required in the knn analysis"
   ]
  },
  {
   "cell_type": "code",
   "execution_count": 3,
   "metadata": {},
   "outputs": [
    {
     "ename": "ERROR",
     "evalue": "Error in str_extract(player_data$height, \"^[0-9]\"): could not find function \"str_extract\"\n",
     "output_type": "error",
     "traceback": [
      "Error in str_extract(player_data$height, \"^[0-9]\"): could not find function \"str_extract\"\nTraceback:\n"
     ]
    }
   ],
   "source": [
    "#Wrangling\n",
    "#We only want players in 2017, this is the most current reported data\n",
    "\n",
    "# player_data_2017 <- filter(player_data, Year == \"2017\")\n",
    "# player_data_2017\n",
    "\n",
    "# season_data_2017 <- filter(season_data, Year == \"2017\") %>%\n",
    "#     group_by(Player)\n",
    "# season_data_2017\n",
    "\n",
    "feet <- str_extract(player_data$height,\"^[0-9]\")\n",
    "feet\n",
    "inches <- str_extract(player_data$height,\"[0-9]+$\")\n",
    "\n",
    "feet_as_numeric <- as_numeric(feet)\n",
    "inch_as_numeric <- as_numeric(inch)\n",
    "\n",
    "height_cm <- #convert(feet) + convert(inches)\n",
    "\n",
    "#We want the predicted class: Pos \n",
    "#We want \n",
    "\n",
    "\n",
    "# combined_data_set <- select(season_stats, ) %>%\n",
    "#     select()\n"
   ]
  },
  {
   "cell_type": "code",
   "execution_count": 32,
   "metadata": {},
   "outputs": [
    {
     "name": "stderr",
     "output_type": "stream",
     "text": [
      "`summarise()` regrouping output by 'Player' (override with `.groups` argument)\n",
      "\n"
     ]
    },
    {
     "data": {
      "text/html": [
       "<table>\n",
       "<caption>A grouped_df: 595 × 58</caption>\n",
       "<thead>\n",
       "\t<tr><th scope=col>Player</th><th scope=col>X1</th><th scope=col>Year</th><th scope=col>Pos</th><th scope=col>Age</th><th scope=col>Tm</th><th scope=col>G</th><th scope=col>GS</th><th scope=col>MP</th><th scope=col>PER</th><th scope=col>⋯</th><th scope=col>STL</th><th scope=col>BLK</th><th scope=col>TOV</th><th scope=col>PF</th><th scope=col>PTS</th><th scope=col>PPG</th><th scope=col>APG</th><th scope=col>RPG</th><th scope=col>SPG</th><th scope=col>BPG</th></tr>\n",
       "\t<tr><th scope=col>&lt;fct&gt;</th><th scope=col>&lt;dbl&gt;</th><th scope=col>&lt;dbl&gt;</th><th scope=col>&lt;chr&gt;</th><th scope=col>&lt;dbl&gt;</th><th scope=col>&lt;chr&gt;</th><th scope=col>&lt;dbl&gt;</th><th scope=col>&lt;lgl&gt;</th><th scope=col>&lt;dbl&gt;</th><th scope=col>&lt;dbl&gt;</th><th scope=col>⋯</th><th scope=col>&lt;lgl&gt;</th><th scope=col>&lt;lgl&gt;</th><th scope=col>&lt;lgl&gt;</th><th scope=col>&lt;dbl&gt;</th><th scope=col>&lt;dbl&gt;</th><th scope=col>&lt;dbl&gt;</th><th scope=col>&lt;dbl&gt;</th><th scope=col>&lt;dbl&gt;</th><th scope=col>&lt;dbl&gt;</th><th scope=col>&lt;dbl&gt;</th></tr>\n",
       "</thead>\n",
       "<tbody>\n",
       "\t<tr><td>A.J. Hammons</td><td>24304</td><td>2017</td><td>C </td><td>24</td><td>DAL</td><td>22</td><td>FALSE</td><td> 163</td><td> 8.4</td><td>⋯</td><td>TRUE</td><td>NA</td><td>NA</td><td> 21</td><td>  48</td><td> 2.181818</td><td>0.1818182</td><td>1.636364</td><td>0.04545455</td><td>NA</td></tr>\n",
       "\t<tr><td>Aaron Brooks</td><td>24165</td><td>2017</td><td>PG</td><td>32</td><td>IND</td><td>65</td><td>FALSE</td><td> 894</td><td> 9.5</td><td>⋯</td><td>  NA</td><td>NA</td><td>NA</td><td> 93</td><td> 322</td><td> 4.953846</td><td>1.9230769</td><td>1.061538</td><td>        NA</td><td>NA</td></tr>\n",
       "\t<tr><td>Aaron Gordon</td><td>24289</td><td>2017</td><td>SF</td><td>21</td><td>ORL</td><td>80</td><td>   NA</td><td>2298</td><td>14.4</td><td>⋯</td><td>  NA</td><td>NA</td><td>NA</td><td>172</td><td>1019</td><td>12.737500</td><td>1.8750000</td><td>5.062500</td><td>        NA</td><td>NA</td></tr>\n",
       "\t<tr><td>⋮</td><td>⋮</td><td>⋮</td><td>⋮</td><td>⋮</td><td>⋮</td><td>⋮</td><td>⋮</td><td>⋮</td><td>⋮</td><td>⋱</td><td>⋮</td><td>⋮</td><td>⋮</td><td>⋮</td><td>⋮</td><td>⋮</td><td>⋮</td><td>⋮</td><td>⋮</td><td>⋮</td></tr>\n",
       "\t<tr><td>Zach LaVine  </td><td>24408</td><td>2017</td><td>SG</td><td>21</td><td>MIN</td><td>47</td><td>NA</td><td>1749</td><td>14.6</td><td>⋯</td><td>NA</td><td>NA</td><td>NA</td><td>104</td><td> 889</td><td>18.914894</td><td>2.957447</td><td>3.382979</td><td>NA</td><td>NA</td></tr>\n",
       "\t<tr><td>Zach Randolph</td><td>24550</td><td>2017</td><td>PF</td><td>35</td><td>MEM</td><td>73</td><td>NA</td><td>1786</td><td>18.5</td><td>⋯</td><td>NA</td><td>NA</td><td>NA</td><td>136</td><td>1028</td><td>14.082192</td><td>1.671233</td><td>8.191781</td><td>NA</td><td>NA</td></tr>\n",
       "\t<tr><td>Zaza Pachulia</td><td>24515</td><td>2017</td><td>C </td><td>32</td><td>GSW</td><td>70</td><td>NA</td><td>1268</td><td>16.1</td><td>⋯</td><td>NA</td><td>NA</td><td>NA</td><td>166</td><td> 426</td><td> 6.085714</td><td>1.885714</td><td>5.857143</td><td>NA</td><td>NA</td></tr>\n",
       "</tbody>\n",
       "</table>\n"
      ],
      "text/latex": [
       "A grouped\\_df: 595 × 58\n",
       "\\begin{tabular}{lllllllllllllllllllll}\n",
       " Player & X1 & Year & Pos & Age & Tm & G & GS & MP & PER & ⋯ & STL & BLK & TOV & PF & PTS & PPG & APG & RPG & SPG & BPG\\\\\n",
       " <fct> & <dbl> & <dbl> & <chr> & <dbl> & <chr> & <dbl> & <lgl> & <dbl> & <dbl> & ⋯ & <lgl> & <lgl> & <lgl> & <dbl> & <dbl> & <dbl> & <dbl> & <dbl> & <dbl> & <dbl>\\\\\n",
       "\\hline\n",
       "\t A.J. Hammons & 24304 & 2017 & C  & 24 & DAL & 22 & FALSE &  163 &  8.4 & ⋯ & TRUE & NA & NA &  21 &   48 &  2.181818 & 0.1818182 & 1.636364 & 0.04545455 & NA\\\\\n",
       "\t Aaron Brooks & 24165 & 2017 & PG & 32 & IND & 65 & FALSE &  894 &  9.5 & ⋯ &   NA & NA & NA &  93 &  322 &  4.953846 & 1.9230769 & 1.061538 &         NA & NA\\\\\n",
       "\t Aaron Gordon & 24289 & 2017 & SF & 21 & ORL & 80 &    NA & 2298 & 14.4 & ⋯ &   NA & NA & NA & 172 & 1019 & 12.737500 & 1.8750000 & 5.062500 &         NA & NA\\\\\n",
       "\t ⋮ & ⋮ & ⋮ & ⋮ & ⋮ & ⋮ & ⋮ & ⋮ & ⋮ & ⋮ & ⋱ & ⋮ & ⋮ & ⋮ & ⋮ & ⋮ & ⋮ & ⋮ & ⋮ & ⋮ & ⋮\\\\\n",
       "\t Zach LaVine   & 24408 & 2017 & SG & 21 & MIN & 47 & NA & 1749 & 14.6 & ⋯ & NA & NA & NA & 104 &  889 & 18.914894 & 2.957447 & 3.382979 & NA & NA\\\\\n",
       "\t Zach Randolph & 24550 & 2017 & PF & 35 & MEM & 73 & NA & 1786 & 18.5 & ⋯ & NA & NA & NA & 136 & 1028 & 14.082192 & 1.671233 & 8.191781 & NA & NA\\\\\n",
       "\t Zaza Pachulia & 24515 & 2017 & C  & 32 & GSW & 70 & NA & 1268 & 16.1 & ⋯ & NA & NA & NA & 166 &  426 &  6.085714 & 1.885714 & 5.857143 & NA & NA\\\\\n",
       "\\end{tabular}\n"
      ],
      "text/markdown": [
       "\n",
       "A grouped_df: 595 × 58\n",
       "\n",
       "| Player &lt;fct&gt; | X1 &lt;dbl&gt; | Year &lt;dbl&gt; | Pos &lt;chr&gt; | Age &lt;dbl&gt; | Tm &lt;chr&gt; | G &lt;dbl&gt; | GS &lt;lgl&gt; | MP &lt;dbl&gt; | PER &lt;dbl&gt; | ⋯ ⋯ | STL &lt;lgl&gt; | BLK &lt;lgl&gt; | TOV &lt;lgl&gt; | PF &lt;dbl&gt; | PTS &lt;dbl&gt; | PPG &lt;dbl&gt; | APG &lt;dbl&gt; | RPG &lt;dbl&gt; | SPG &lt;dbl&gt; | BPG &lt;dbl&gt; |\n",
       "|---|---|---|---|---|---|---|---|---|---|---|---|---|---|---|---|---|---|---|---|---|\n",
       "| A.J. Hammons | 24304 | 2017 | C  | 24 | DAL | 22 | FALSE |  163 |  8.4 | ⋯ | TRUE | NA | NA |  21 |   48 |  2.181818 | 0.1818182 | 1.636364 | 0.04545455 | NA |\n",
       "| Aaron Brooks | 24165 | 2017 | PG | 32 | IND | 65 | FALSE |  894 |  9.5 | ⋯ |   NA | NA | NA |  93 |  322 |  4.953846 | 1.9230769 | 1.061538 |         NA | NA |\n",
       "| Aaron Gordon | 24289 | 2017 | SF | 21 | ORL | 80 |    NA | 2298 | 14.4 | ⋯ |   NA | NA | NA | 172 | 1019 | 12.737500 | 1.8750000 | 5.062500 |         NA | NA |\n",
       "| ⋮ | ⋮ | ⋮ | ⋮ | ⋮ | ⋮ | ⋮ | ⋮ | ⋮ | ⋮ | ⋱ | ⋮ | ⋮ | ⋮ | ⋮ | ⋮ | ⋮ | ⋮ | ⋮ | ⋮ | ⋮ |\n",
       "| Zach LaVine   | 24408 | 2017 | SG | 21 | MIN | 47 | NA | 1749 | 14.6 | ⋯ | NA | NA | NA | 104 |  889 | 18.914894 | 2.957447 | 3.382979 | NA | NA |\n",
       "| Zach Randolph | 24550 | 2017 | PF | 35 | MEM | 73 | NA | 1786 | 18.5 | ⋯ | NA | NA | NA | 136 | 1028 | 14.082192 | 1.671233 | 8.191781 | NA | NA |\n",
       "| Zaza Pachulia | 24515 | 2017 | C  | 32 | GSW | 70 | NA | 1268 | 16.1 | ⋯ | NA | NA | NA | 166 |  426 |  6.085714 | 1.885714 | 5.857143 | NA | NA |\n",
       "\n"
      ],
      "text/plain": [
       "    Player        X1    Year Pos Age Tm  G  GS    MP   PER  ⋯ STL  BLK TOV PF \n",
       "1   A.J. Hammons  24304 2017 C   24  DAL 22 FALSE  163  8.4 ⋯ TRUE NA  NA   21\n",
       "2   Aaron Brooks  24165 2017 PG  32  IND 65 FALSE  894  9.5 ⋯   NA NA  NA   93\n",
       "3   Aaron Gordon  24289 2017 SF  21  ORL 80    NA 2298 14.4 ⋯   NA NA  NA  172\n",
       "⋮   ⋮             ⋮     ⋮    ⋮   ⋮   ⋮   ⋮  ⋮     ⋮    ⋮    ⋱ ⋮    ⋮   ⋮   ⋮  \n",
       "593 Zach LaVine   24408 2017 SG  21  MIN 47 NA    1749 14.6 ⋯ NA   NA  NA  104\n",
       "594 Zach Randolph 24550 2017 PF  35  MEM 73 NA    1786 18.5 ⋯ NA   NA  NA  136\n",
       "595 Zaza Pachulia 24515 2017 C   32  GSW 70 NA    1268 16.1 ⋯ NA   NA  NA  166\n",
       "    PTS  PPG       APG       RPG      SPG        BPG\n",
       "1     48  2.181818 0.1818182 1.636364 0.04545455 NA \n",
       "2    322  4.953846 1.9230769 1.061538         NA NA \n",
       "3   1019 12.737500 1.8750000 5.062500         NA NA \n",
       "⋮   ⋮    ⋮         ⋮         ⋮        ⋮          ⋮  \n",
       "593  889 18.914894 2.957447  3.382979 NA         NA \n",
       "594 1028 14.082192 1.671233  8.191781 NA         NA \n",
       "595  426  6.085714 1.885714  5.857143 NA         NA "
      ]
     },
     "metadata": {},
     "output_type": "display_data"
    }
   ],
   "source": [
    "#convert wanted parameters to class\n",
    "season_data_2017 <- season_data_2017 %>%\n",
    "    mutate(Player = as_factor(Player)) %>%\n",
    "    mutate(PPG = PTS/G) %>%\n",
    "    mutate(APG = AST/G) %>%\n",
    "    mutate(RPG = TRB/G) %>%\n",
    "    mutate(SPG = STL/G) %>% #just for experimentation\n",
    "    mutate(BPG = BLK/G) %>%\n",
    "\n",
    "    #select(Player, PPG, APG, RPG, SPG, BPG, \"3P%\",\"2P%\", \"FT%\", \"FG%\" ) %>%\n",
    "    summarize(across(na.rm = TRUE))\n",
    "season_data_2017"
   ]
  },
  {
   "cell_type": "code",
   "execution_count": 3,
   "metadata": {},
   "outputs": [],
   "source": [
    "# sample graph\n",
    "ggplot()\n",
    "    "
   ]
  },
  {
   "cell_type": "code",
   "execution_count": null,
   "metadata": {},
   "outputs": [],
   "source": []
  },
  {
   "cell_type": "code",
   "execution_count": null,
   "metadata": {},
   "outputs": [],
   "source": []
  }
 ],
 "metadata": {
  "kernelspec": {
   "display_name": "R",
   "language": "R",
   "name": "ir"
  },
  "language_info": {
   "codemirror_mode": "r",
   "file_extension": ".r",
   "mimetype": "text/x-r-source",
   "name": "R",
   "pygments_lexer": "r",
   "version": "4.0.0"
  }
 },
 "nbformat": 4,
 "nbformat_minor": 4
}
