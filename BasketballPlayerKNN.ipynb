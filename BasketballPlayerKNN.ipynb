{
 "cells": [
  {
   "cell_type": "code",
   "execution_count": 28,
   "metadata": {},
   "outputs": [],
   "source": [
    "# Section 007 Group 02 Basketball Player Position Classification\n",
    "# This project will include KNN classification for different basketball player positions based on player's physical and game statstics\n",
    "# That being said, the algorithm will be able to predict a basketball player just entering any parameters"
   ]
  },
  {
   "cell_type": "code",
   "execution_count": 29,
   "metadata": {},
   "outputs": [
    {
     "name": "stderr",
     "output_type": "stream",
     "text": [
      "Warning message in file(filename, \"r\", encoding = encoding):\n",
      "“cannot open file 'tests.R': No such file or directory”\n"
     ]
    },
    {
     "ename": "ERROR",
     "evalue": "Error in file(filename, \"r\", encoding = encoding): cannot open the connection\n",
     "output_type": "error",
     "traceback": [
      "Error in file(filename, \"r\", encoding = encoding): cannot open the connection\nTraceback:\n",
      "1. source(\"tests.R\")",
      "2. file(filename, \"r\", encoding = encoding)"
     ]
    }
   ],
   "source": [
    "### The necessary Libraries required\n",
    "library(tidyverse)\n",
    "library(stringr)\n",
    "library(repr)\n",
    "library(tidymodels)\n",
    "options(repr.matrix.max.rows = 6)\n",
    "source('tests.R')\n",
    "source('cleanup.R')"
   ]
  },
  {
   "cell_type": "code",
   "execution_count": 30,
   "metadata": {},
   "outputs": [],
   "source": [
    "# ?str_detect"
   ]
  },
  {
   "cell_type": "code",
   "execution_count": 31,
   "metadata": {},
   "outputs": [
    {
     "name": "stderr",
     "output_type": "stream",
     "text": [
      "Parsed with column specification:\n",
      "cols(\n",
      "  name = \u001b[31mcol_character()\u001b[39m,\n",
      "  year_start = \u001b[32mcol_double()\u001b[39m,\n",
      "  year_end = \u001b[32mcol_double()\u001b[39m,\n",
      "  position = \u001b[31mcol_character()\u001b[39m,\n",
      "  height = \u001b[31mcol_character()\u001b[39m,\n",
      "  weight = \u001b[32mcol_double()\u001b[39m,\n",
      "  birth_date = \u001b[31mcol_character()\u001b[39m,\n",
      "  college = \u001b[31mcol_character()\u001b[39m\n",
      ")\n",
      "\n",
      "Warning message:\n",
      "“Missing column names filled in: 'X1' [1]”\n",
      "Parsed with column specification:\n",
      "cols(\n",
      "  .default = col_double(),\n",
      "  Player = \u001b[31mcol_character()\u001b[39m,\n",
      "  Pos = \u001b[31mcol_character()\u001b[39m,\n",
      "  Tm = \u001b[31mcol_character()\u001b[39m,\n",
      "  GS = \u001b[33mcol_logical()\u001b[39m,\n",
      "  `3PAr` = \u001b[33mcol_logical()\u001b[39m,\n",
      "  `ORB%` = \u001b[33mcol_logical()\u001b[39m,\n",
      "  `DRB%` = \u001b[33mcol_logical()\u001b[39m,\n",
      "  `TRB%` = \u001b[33mcol_logical()\u001b[39m,\n",
      "  `AST%` = \u001b[33mcol_logical()\u001b[39m,\n",
      "  `STL%` = \u001b[33mcol_logical()\u001b[39m,\n",
      "  `BLK%` = \u001b[33mcol_logical()\u001b[39m,\n",
      "  `TOV%` = \u001b[33mcol_logical()\u001b[39m,\n",
      "  `USG%` = \u001b[33mcol_logical()\u001b[39m,\n",
      "  blanl = \u001b[33mcol_logical()\u001b[39m,\n",
      "  blank2 = \u001b[33mcol_logical()\u001b[39m,\n",
      "  OBPM = \u001b[33mcol_logical()\u001b[39m,\n",
      "  DBPM = \u001b[33mcol_logical()\u001b[39m,\n",
      "  BPM = \u001b[33mcol_logical()\u001b[39m,\n",
      "  VORP = \u001b[33mcol_logical()\u001b[39m,\n",
      "  `3P` = \u001b[33mcol_logical()\u001b[39m\n",
      "  # ... with 7 more columns\n",
      ")\n",
      "\n",
      "See spec(...) for full column specifications.\n",
      "\n",
      "Warning message:\n",
      "“394102 parsing failures.\n",
      " row  col           expected actual                     file\n",
      "2080 AST% 1/0/T/F/TRUE/FALSE   13.5 'data/Seasons_Stats.csv'\n",
      "2081 AST% 1/0/T/F/TRUE/FALSE   16.6 'data/Seasons_Stats.csv'\n",
      "2082 AST% 1/0/T/F/TRUE/FALSE   5.3  'data/Seasons_Stats.csv'\n",
      "2083 AST% 1/0/T/F/TRUE/FALSE   11.6 'data/Seasons_Stats.csv'\n",
      "2084 AST% 1/0/T/F/TRUE/FALSE   14.1 'data/Seasons_Stats.csv'\n",
      ".... .... .................. ...... ........................\n",
      "See problems(...) for more details.\n",
      "”\n"
     ]
    },
    {
     "data": {
      "text/html": [
       "<table>\n",
       "<caption>A spec_tbl_df: 4550 × 8</caption>\n",
       "<thead>\n",
       "\t<tr><th scope=col>name</th><th scope=col>year_start</th><th scope=col>year_end</th><th scope=col>position</th><th scope=col>height</th><th scope=col>weight</th><th scope=col>birth_date</th><th scope=col>college</th></tr>\n",
       "\t<tr><th scope=col>&lt;chr&gt;</th><th scope=col>&lt;dbl&gt;</th><th scope=col>&lt;dbl&gt;</th><th scope=col>&lt;chr&gt;</th><th scope=col>&lt;chr&gt;</th><th scope=col>&lt;dbl&gt;</th><th scope=col>&lt;chr&gt;</th><th scope=col>&lt;chr&gt;</th></tr>\n",
       "</thead>\n",
       "<tbody>\n",
       "\t<tr><td>Alaa Abdelnaby     </td><td>1991</td><td>1995</td><td>F-C</td><td>6-10</td><td>240</td><td>June 24, 1968 </td><td>Duke University                      </td></tr>\n",
       "\t<tr><td>Zaid Abdul-Aziz    </td><td>1969</td><td>1978</td><td>C-F</td><td>6-9 </td><td>235</td><td>April 7, 1946 </td><td>Iowa State University                </td></tr>\n",
       "\t<tr><td>Kareem Abdul-Jabbar</td><td>1970</td><td>1989</td><td>C  </td><td>7-2 </td><td>225</td><td>April 16, 1947</td><td>University of California, Los Angeles</td></tr>\n",
       "\t<tr><td>⋮</td><td>⋮</td><td>⋮</td><td>⋮</td><td>⋮</td><td>⋮</td><td>⋮</td><td>⋮</td></tr>\n",
       "\t<tr><td>Bill Zopf  </td><td>1971</td><td>1971</td><td>G  </td><td>6-1</td><td>170</td><td>June 7, 1948     </td><td>Duquesne University         </td></tr>\n",
       "\t<tr><td>Ivica Zubac</td><td>2017</td><td>2018</td><td>C  </td><td>7-1</td><td>265</td><td>March 18, 1997   </td><td>NA                          </td></tr>\n",
       "\t<tr><td>Matt Zunic </td><td>1949</td><td>1949</td><td>G-F</td><td>6-3</td><td>195</td><td>December 19, 1919</td><td>George Washington University</td></tr>\n",
       "</tbody>\n",
       "</table>\n"
      ],
      "text/latex": [
       "A spec\\_tbl\\_df: 4550 × 8\n",
       "\\begin{tabular}{llllllll}\n",
       " name & year\\_start & year\\_end & position & height & weight & birth\\_date & college\\\\\n",
       " <chr> & <dbl> & <dbl> & <chr> & <chr> & <dbl> & <chr> & <chr>\\\\\n",
       "\\hline\n",
       "\t Alaa Abdelnaby      & 1991 & 1995 & F-C & 6-10 & 240 & June 24, 1968  & Duke University                      \\\\\n",
       "\t Zaid Abdul-Aziz     & 1969 & 1978 & C-F & 6-9  & 235 & April 7, 1946  & Iowa State University                \\\\\n",
       "\t Kareem Abdul-Jabbar & 1970 & 1989 & C   & 7-2  & 225 & April 16, 1947 & University of California, Los Angeles\\\\\n",
       "\t ⋮ & ⋮ & ⋮ & ⋮ & ⋮ & ⋮ & ⋮ & ⋮\\\\\n",
       "\t Bill Zopf   & 1971 & 1971 & G   & 6-1 & 170 & June 7, 1948      & Duquesne University         \\\\\n",
       "\t Ivica Zubac & 2017 & 2018 & C   & 7-1 & 265 & March 18, 1997    & NA                          \\\\\n",
       "\t Matt Zunic  & 1949 & 1949 & G-F & 6-3 & 195 & December 19, 1919 & George Washington University\\\\\n",
       "\\end{tabular}\n"
      ],
      "text/markdown": [
       "\n",
       "A spec_tbl_df: 4550 × 8\n",
       "\n",
       "| name &lt;chr&gt; | year_start &lt;dbl&gt; | year_end &lt;dbl&gt; | position &lt;chr&gt; | height &lt;chr&gt; | weight &lt;dbl&gt; | birth_date &lt;chr&gt; | college &lt;chr&gt; |\n",
       "|---|---|---|---|---|---|---|---|\n",
       "| Alaa Abdelnaby      | 1991 | 1995 | F-C | 6-10 | 240 | June 24, 1968  | Duke University                       |\n",
       "| Zaid Abdul-Aziz     | 1969 | 1978 | C-F | 6-9  | 235 | April 7, 1946  | Iowa State University                 |\n",
       "| Kareem Abdul-Jabbar | 1970 | 1989 | C   | 7-2  | 225 | April 16, 1947 | University of California, Los Angeles |\n",
       "| ⋮ | ⋮ | ⋮ | ⋮ | ⋮ | ⋮ | ⋮ | ⋮ |\n",
       "| Bill Zopf   | 1971 | 1971 | G   | 6-1 | 170 | June 7, 1948      | Duquesne University          |\n",
       "| Ivica Zubac | 2017 | 2018 | C   | 7-1 | 265 | March 18, 1997    | NA                           |\n",
       "| Matt Zunic  | 1949 | 1949 | G-F | 6-3 | 195 | December 19, 1919 | George Washington University |\n",
       "\n"
      ],
      "text/plain": [
       "     name                year_start year_end position height weight\n",
       "1    Alaa Abdelnaby      1991       1995     F-C      6-10   240   \n",
       "2    Zaid Abdul-Aziz     1969       1978     C-F      6-9    235   \n",
       "3    Kareem Abdul-Jabbar 1970       1989     C        7-2    225   \n",
       "⋮    ⋮                   ⋮          ⋮        ⋮        ⋮      ⋮     \n",
       "4548 Bill Zopf           1971       1971     G        6-1    170   \n",
       "4549 Ivica Zubac         2017       2018     C        7-1    265   \n",
       "4550 Matt Zunic          1949       1949     G-F      6-3    195   \n",
       "     birth_date        college                              \n",
       "1    June 24, 1968     Duke University                      \n",
       "2    April 7, 1946     Iowa State University                \n",
       "3    April 16, 1947    University of California, Los Angeles\n",
       "⋮    ⋮                 ⋮                                    \n",
       "4548 June 7, 1948      Duquesne University                  \n",
       "4549 March 18, 1997    NA                                   \n",
       "4550 December 19, 1919 George Washington University         "
      ]
     },
     "metadata": {},
     "output_type": "display_data"
    },
    {
     "data": {
      "text/html": [
       "<table>\n",
       "<caption>A spec_tbl_df: 24691 × 53</caption>\n",
       "<thead>\n",
       "\t<tr><th scope=col>X1</th><th scope=col>Year</th><th scope=col>Player</th><th scope=col>Pos</th><th scope=col>Age</th><th scope=col>Tm</th><th scope=col>G</th><th scope=col>GS</th><th scope=col>MP</th><th scope=col>PER</th><th scope=col>⋯</th><th scope=col>FT%</th><th scope=col>ORB</th><th scope=col>DRB</th><th scope=col>TRB</th><th scope=col>AST</th><th scope=col>STL</th><th scope=col>BLK</th><th scope=col>TOV</th><th scope=col>PF</th><th scope=col>PTS</th></tr>\n",
       "\t<tr><th scope=col>&lt;dbl&gt;</th><th scope=col>&lt;dbl&gt;</th><th scope=col>&lt;chr&gt;</th><th scope=col>&lt;chr&gt;</th><th scope=col>&lt;dbl&gt;</th><th scope=col>&lt;chr&gt;</th><th scope=col>&lt;dbl&gt;</th><th scope=col>&lt;lgl&gt;</th><th scope=col>&lt;dbl&gt;</th><th scope=col>&lt;dbl&gt;</th><th scope=col>⋯</th><th scope=col>&lt;dbl&gt;</th><th scope=col>&lt;lgl&gt;</th><th scope=col>&lt;lgl&gt;</th><th scope=col>&lt;dbl&gt;</th><th scope=col>&lt;dbl&gt;</th><th scope=col>&lt;lgl&gt;</th><th scope=col>&lt;lgl&gt;</th><th scope=col>&lt;lgl&gt;</th><th scope=col>&lt;dbl&gt;</th><th scope=col>&lt;dbl&gt;</th></tr>\n",
       "</thead>\n",
       "<tbody>\n",
       "\t<tr><td>0</td><td>1950</td><td>Curly Armstrong</td><td>G-F</td><td>31</td><td>FTW</td><td>63</td><td>NA</td><td>NA</td><td>NA</td><td>⋯</td><td>0.705</td><td>NA</td><td>NA</td><td>NA</td><td>176</td><td>NA</td><td>NA</td><td>NA</td><td>217</td><td>458</td></tr>\n",
       "\t<tr><td>1</td><td>1950</td><td>Cliff Barker   </td><td>SG </td><td>29</td><td>INO</td><td>49</td><td>NA</td><td>NA</td><td>NA</td><td>⋯</td><td>0.708</td><td>NA</td><td>NA</td><td>NA</td><td>109</td><td>NA</td><td>NA</td><td>NA</td><td> 99</td><td>279</td></tr>\n",
       "\t<tr><td>2</td><td>1950</td><td>Leo Barnhorst  </td><td>SF </td><td>25</td><td>CHS</td><td>67</td><td>NA</td><td>NA</td><td>NA</td><td>⋯</td><td>0.698</td><td>NA</td><td>NA</td><td>NA</td><td>140</td><td>NA</td><td>NA</td><td>NA</td><td>192</td><td>438</td></tr>\n",
       "\t<tr><td>⋮</td><td>⋮</td><td>⋮</td><td>⋮</td><td>⋮</td><td>⋮</td><td>⋮</td><td>⋮</td><td>⋮</td><td>⋮</td><td>⋱</td><td>⋮</td><td>⋮</td><td>⋮</td><td>⋮</td><td>⋮</td><td>⋮</td><td>⋮</td><td>⋮</td><td>⋮</td><td>⋮</td></tr>\n",
       "\t<tr><td>24688</td><td>2017</td><td>Stephen Zimmerman</td><td>C </td><td>20</td><td>ORL</td><td>19</td><td>FALSE</td><td>108</td><td> 7.3</td><td>⋯</td><td>0.600</td><td>NA</td><td>NA</td><td> 35</td><td> 4</td><td>NA</td><td>NA</td><td>NA</td><td>17</td><td> 23</td></tr>\n",
       "\t<tr><td>24689</td><td>2017</td><td>Paul Zipser      </td><td>SF</td><td>22</td><td>CHI</td><td>44</td><td>   NA</td><td>843</td><td> 6.9</td><td>⋯</td><td>0.775</td><td>NA</td><td>NA</td><td>125</td><td>36</td><td>NA</td><td>NA</td><td>NA</td><td>78</td><td>240</td></tr>\n",
       "\t<tr><td>24690</td><td>2017</td><td>Ivica Zubac      </td><td>C </td><td>19</td><td>LAL</td><td>38</td><td>   NA</td><td>609</td><td>17.0</td><td>⋯</td><td>0.653</td><td>NA</td><td>NA</td><td>159</td><td>30</td><td>NA</td><td>NA</td><td>NA</td><td>66</td><td>284</td></tr>\n",
       "</tbody>\n",
       "</table>\n"
      ],
      "text/latex": [
       "A spec\\_tbl\\_df: 24691 × 53\n",
       "\\begin{tabular}{lllllllllllllllllllll}\n",
       " X1 & Year & Player & Pos & Age & Tm & G & GS & MP & PER & ⋯ & FT\\% & ORB & DRB & TRB & AST & STL & BLK & TOV & PF & PTS\\\\\n",
       " <dbl> & <dbl> & <chr> & <chr> & <dbl> & <chr> & <dbl> & <lgl> & <dbl> & <dbl> & ⋯ & <dbl> & <lgl> & <lgl> & <dbl> & <dbl> & <lgl> & <lgl> & <lgl> & <dbl> & <dbl>\\\\\n",
       "\\hline\n",
       "\t 0 & 1950 & Curly Armstrong & G-F & 31 & FTW & 63 & NA & NA & NA & ⋯ & 0.705 & NA & NA & NA & 176 & NA & NA & NA & 217 & 458\\\\\n",
       "\t 1 & 1950 & Cliff Barker    & SG  & 29 & INO & 49 & NA & NA & NA & ⋯ & 0.708 & NA & NA & NA & 109 & NA & NA & NA &  99 & 279\\\\\n",
       "\t 2 & 1950 & Leo Barnhorst   & SF  & 25 & CHS & 67 & NA & NA & NA & ⋯ & 0.698 & NA & NA & NA & 140 & NA & NA & NA & 192 & 438\\\\\n",
       "\t ⋮ & ⋮ & ⋮ & ⋮ & ⋮ & ⋮ & ⋮ & ⋮ & ⋮ & ⋮ & ⋱ & ⋮ & ⋮ & ⋮ & ⋮ & ⋮ & ⋮ & ⋮ & ⋮ & ⋮ & ⋮\\\\\n",
       "\t 24688 & 2017 & Stephen Zimmerman & C  & 20 & ORL & 19 & FALSE & 108 &  7.3 & ⋯ & 0.600 & NA & NA &  35 &  4 & NA & NA & NA & 17 &  23\\\\\n",
       "\t 24689 & 2017 & Paul Zipser       & SF & 22 & CHI & 44 &    NA & 843 &  6.9 & ⋯ & 0.775 & NA & NA & 125 & 36 & NA & NA & NA & 78 & 240\\\\\n",
       "\t 24690 & 2017 & Ivica Zubac       & C  & 19 & LAL & 38 &    NA & 609 & 17.0 & ⋯ & 0.653 & NA & NA & 159 & 30 & NA & NA & NA & 66 & 284\\\\\n",
       "\\end{tabular}\n"
      ],
      "text/markdown": [
       "\n",
       "A spec_tbl_df: 24691 × 53\n",
       "\n",
       "| X1 &lt;dbl&gt; | Year &lt;dbl&gt; | Player &lt;chr&gt; | Pos &lt;chr&gt; | Age &lt;dbl&gt; | Tm &lt;chr&gt; | G &lt;dbl&gt; | GS &lt;lgl&gt; | MP &lt;dbl&gt; | PER &lt;dbl&gt; | ⋯ ⋯ | FT% &lt;dbl&gt; | ORB &lt;lgl&gt; | DRB &lt;lgl&gt; | TRB &lt;dbl&gt; | AST &lt;dbl&gt; | STL &lt;lgl&gt; | BLK &lt;lgl&gt; | TOV &lt;lgl&gt; | PF &lt;dbl&gt; | PTS &lt;dbl&gt; |\n",
       "|---|---|---|---|---|---|---|---|---|---|---|---|---|---|---|---|---|---|---|---|---|\n",
       "| 0 | 1950 | Curly Armstrong | G-F | 31 | FTW | 63 | NA | NA | NA | ⋯ | 0.705 | NA | NA | NA | 176 | NA | NA | NA | 217 | 458 |\n",
       "| 1 | 1950 | Cliff Barker    | SG  | 29 | INO | 49 | NA | NA | NA | ⋯ | 0.708 | NA | NA | NA | 109 | NA | NA | NA |  99 | 279 |\n",
       "| 2 | 1950 | Leo Barnhorst   | SF  | 25 | CHS | 67 | NA | NA | NA | ⋯ | 0.698 | NA | NA | NA | 140 | NA | NA | NA | 192 | 438 |\n",
       "| ⋮ | ⋮ | ⋮ | ⋮ | ⋮ | ⋮ | ⋮ | ⋮ | ⋮ | ⋮ | ⋱ | ⋮ | ⋮ | ⋮ | ⋮ | ⋮ | ⋮ | ⋮ | ⋮ | ⋮ | ⋮ |\n",
       "| 24688 | 2017 | Stephen Zimmerman | C  | 20 | ORL | 19 | FALSE | 108 |  7.3 | ⋯ | 0.600 | NA | NA |  35 |  4 | NA | NA | NA | 17 |  23 |\n",
       "| 24689 | 2017 | Paul Zipser       | SF | 22 | CHI | 44 |    NA | 843 |  6.9 | ⋯ | 0.775 | NA | NA | 125 | 36 | NA | NA | NA | 78 | 240 |\n",
       "| 24690 | 2017 | Ivica Zubac       | C  | 19 | LAL | 38 |    NA | 609 | 17.0 | ⋯ | 0.653 | NA | NA | 159 | 30 | NA | NA | NA | 66 | 284 |\n",
       "\n"
      ],
      "text/plain": [
       "      X1    Year Player            Pos Age Tm  G  GS    MP  PER  ⋯ FT%   ORB\n",
       "1     0     1950 Curly Armstrong   G-F 31  FTW 63 NA    NA  NA   ⋯ 0.705 NA \n",
       "2     1     1950 Cliff Barker      SG  29  INO 49 NA    NA  NA   ⋯ 0.708 NA \n",
       "3     2     1950 Leo Barnhorst     SF  25  CHS 67 NA    NA  NA   ⋯ 0.698 NA \n",
       "⋮     ⋮     ⋮    ⋮                 ⋮   ⋮   ⋮   ⋮  ⋮     ⋮   ⋮    ⋱ ⋮     ⋮  \n",
       "24689 24688 2017 Stephen Zimmerman C   20  ORL 19 FALSE 108  7.3 ⋯ 0.600 NA \n",
       "24690 24689 2017 Paul Zipser       SF  22  CHI 44    NA 843  6.9 ⋯ 0.775 NA \n",
       "24691 24690 2017 Ivica Zubac       C   19  LAL 38    NA 609 17.0 ⋯ 0.653 NA \n",
       "      DRB TRB AST STL BLK TOV PF  PTS\n",
       "1     NA  NA  176 NA  NA  NA  217 458\n",
       "2     NA  NA  109 NA  NA  NA   99 279\n",
       "3     NA  NA  140 NA  NA  NA  192 438\n",
       "⋮     ⋮   ⋮   ⋮   ⋮   ⋮   ⋮   ⋮   ⋮  \n",
       "24689 NA   35  4  NA  NA  NA  17   23\n",
       "24690 NA  125 36  NA  NA  NA  78  240\n",
       "24691 NA  159 30  NA  NA  NA  66  284"
      ]
     },
     "metadata": {},
     "output_type": "display_data"
    }
   ],
   "source": [
    "player_data <- read_csv(\"data/player_data.csv\")\n",
    "season_data <- read_csv(\"data/Seasons_Stats.csv\")\n",
    "\n",
    "player_data\n",
    "season_data"
   ]
  },
  {
   "cell_type": "code",
   "execution_count": 32,
   "metadata": {},
   "outputs": [],
   "source": [
    "## Now that we loaded our stats the next step is to wrangle. There is a bunch of information that is not required in the knn analysis"
   ]
  },
  {
   "cell_type": "code",
   "execution_count": 33,
   "metadata": {},
   "outputs": [
    {
     "data": {
      "text/html": [
       "<table>\n",
       "<caption>A grouped_df: 595 × 53</caption>\n",
       "<thead>\n",
       "\t<tr><th scope=col>X1</th><th scope=col>Year</th><th scope=col>Player</th><th scope=col>Pos</th><th scope=col>Age</th><th scope=col>Tm</th><th scope=col>G</th><th scope=col>GS</th><th scope=col>MP</th><th scope=col>PER</th><th scope=col>⋯</th><th scope=col>FT%</th><th scope=col>ORB</th><th scope=col>DRB</th><th scope=col>TRB</th><th scope=col>AST</th><th scope=col>STL</th><th scope=col>BLK</th><th scope=col>TOV</th><th scope=col>PF</th><th scope=col>PTS</th></tr>\n",
       "\t<tr><th scope=col>&lt;dbl&gt;</th><th scope=col>&lt;dbl&gt;</th><th scope=col>&lt;chr&gt;</th><th scope=col>&lt;chr&gt;</th><th scope=col>&lt;dbl&gt;</th><th scope=col>&lt;chr&gt;</th><th scope=col>&lt;dbl&gt;</th><th scope=col>&lt;lgl&gt;</th><th scope=col>&lt;dbl&gt;</th><th scope=col>&lt;dbl&gt;</th><th scope=col>⋯</th><th scope=col>&lt;dbl&gt;</th><th scope=col>&lt;lgl&gt;</th><th scope=col>&lt;lgl&gt;</th><th scope=col>&lt;dbl&gt;</th><th scope=col>&lt;dbl&gt;</th><th scope=col>&lt;lgl&gt;</th><th scope=col>&lt;lgl&gt;</th><th scope=col>&lt;lgl&gt;</th><th scope=col>&lt;dbl&gt;</th><th scope=col>&lt;dbl&gt;</th></tr>\n",
       "</thead>\n",
       "<tbody>\n",
       "\t<tr><td>24096</td><td>2017</td><td>Alex Abrines</td><td>SG</td><td>23</td><td>OKC</td><td>68</td><td>   NA</td><td>1055</td><td>10.1</td><td>⋯</td><td>0.898</td><td>NA</td><td>NA</td><td> 86</td><td>40</td><td>   NA</td><td>   NA</td><td>NA</td><td>114</td><td>406</td></tr>\n",
       "\t<tr><td>24097</td><td>2017</td><td>Quincy Acy  </td><td>PF</td><td>26</td><td>TOT</td><td>38</td><td> TRUE</td><td> 558</td><td>11.8</td><td>⋯</td><td>0.750</td><td>NA</td><td>NA</td><td>115</td><td>18</td><td>   NA</td><td>   NA</td><td>NA</td><td> 67</td><td>222</td></tr>\n",
       "\t<tr><td>24098</td><td>2017</td><td>Quincy Acy  </td><td>PF</td><td>26</td><td>DAL</td><td> 6</td><td>FALSE</td><td>  48</td><td>-1.4</td><td>⋯</td><td>0.667</td><td>NA</td><td>NA</td><td>  8</td><td> 0</td><td>FALSE</td><td>FALSE</td><td>NA</td><td>  9</td><td> 13</td></tr>\n",
       "\t<tr><td>⋮</td><td>⋮</td><td>⋮</td><td>⋮</td><td>⋮</td><td>⋮</td><td>⋮</td><td>⋮</td><td>⋮</td><td>⋮</td><td>⋱</td><td>⋮</td><td>⋮</td><td>⋮</td><td>⋮</td><td>⋮</td><td>⋮</td><td>⋮</td><td>⋮</td><td>⋮</td><td>⋮</td></tr>\n",
       "\t<tr><td>24688</td><td>2017</td><td>Stephen Zimmerman</td><td>C </td><td>20</td><td>ORL</td><td>19</td><td>FALSE</td><td>108</td><td> 7.3</td><td>⋯</td><td>0.600</td><td>NA</td><td>NA</td><td> 35</td><td> 4</td><td>NA</td><td>NA</td><td>NA</td><td>17</td><td> 23</td></tr>\n",
       "\t<tr><td>24689</td><td>2017</td><td>Paul Zipser      </td><td>SF</td><td>22</td><td>CHI</td><td>44</td><td>   NA</td><td>843</td><td> 6.9</td><td>⋯</td><td>0.775</td><td>NA</td><td>NA</td><td>125</td><td>36</td><td>NA</td><td>NA</td><td>NA</td><td>78</td><td>240</td></tr>\n",
       "\t<tr><td>24690</td><td>2017</td><td>Ivica Zubac      </td><td>C </td><td>19</td><td>LAL</td><td>38</td><td>   NA</td><td>609</td><td>17.0</td><td>⋯</td><td>0.653</td><td>NA</td><td>NA</td><td>159</td><td>30</td><td>NA</td><td>NA</td><td>NA</td><td>66</td><td>284</td></tr>\n",
       "</tbody>\n",
       "</table>\n"
      ],
      "text/latex": [
       "A grouped\\_df: 595 × 53\n",
       "\\begin{tabular}{lllllllllllllllllllll}\n",
       " X1 & Year & Player & Pos & Age & Tm & G & GS & MP & PER & ⋯ & FT\\% & ORB & DRB & TRB & AST & STL & BLK & TOV & PF & PTS\\\\\n",
       " <dbl> & <dbl> & <chr> & <chr> & <dbl> & <chr> & <dbl> & <lgl> & <dbl> & <dbl> & ⋯ & <dbl> & <lgl> & <lgl> & <dbl> & <dbl> & <lgl> & <lgl> & <lgl> & <dbl> & <dbl>\\\\\n",
       "\\hline\n",
       "\t 24096 & 2017 & Alex Abrines & SG & 23 & OKC & 68 &    NA & 1055 & 10.1 & ⋯ & 0.898 & NA & NA &  86 & 40 &    NA &    NA & NA & 114 & 406\\\\\n",
       "\t 24097 & 2017 & Quincy Acy   & PF & 26 & TOT & 38 &  TRUE &  558 & 11.8 & ⋯ & 0.750 & NA & NA & 115 & 18 &    NA &    NA & NA &  67 & 222\\\\\n",
       "\t 24098 & 2017 & Quincy Acy   & PF & 26 & DAL &  6 & FALSE &   48 & -1.4 & ⋯ & 0.667 & NA & NA &   8 &  0 & FALSE & FALSE & NA &   9 &  13\\\\\n",
       "\t ⋮ & ⋮ & ⋮ & ⋮ & ⋮ & ⋮ & ⋮ & ⋮ & ⋮ & ⋮ & ⋱ & ⋮ & ⋮ & ⋮ & ⋮ & ⋮ & ⋮ & ⋮ & ⋮ & ⋮ & ⋮\\\\\n",
       "\t 24688 & 2017 & Stephen Zimmerman & C  & 20 & ORL & 19 & FALSE & 108 &  7.3 & ⋯ & 0.600 & NA & NA &  35 &  4 & NA & NA & NA & 17 &  23\\\\\n",
       "\t 24689 & 2017 & Paul Zipser       & SF & 22 & CHI & 44 &    NA & 843 &  6.9 & ⋯ & 0.775 & NA & NA & 125 & 36 & NA & NA & NA & 78 & 240\\\\\n",
       "\t 24690 & 2017 & Ivica Zubac       & C  & 19 & LAL & 38 &    NA & 609 & 17.0 & ⋯ & 0.653 & NA & NA & 159 & 30 & NA & NA & NA & 66 & 284\\\\\n",
       "\\end{tabular}\n"
      ],
      "text/markdown": [
       "\n",
       "A grouped_df: 595 × 53\n",
       "\n",
       "| X1 &lt;dbl&gt; | Year &lt;dbl&gt; | Player &lt;chr&gt; | Pos &lt;chr&gt; | Age &lt;dbl&gt; | Tm &lt;chr&gt; | G &lt;dbl&gt; | GS &lt;lgl&gt; | MP &lt;dbl&gt; | PER &lt;dbl&gt; | ⋯ ⋯ | FT% &lt;dbl&gt; | ORB &lt;lgl&gt; | DRB &lt;lgl&gt; | TRB &lt;dbl&gt; | AST &lt;dbl&gt; | STL &lt;lgl&gt; | BLK &lt;lgl&gt; | TOV &lt;lgl&gt; | PF &lt;dbl&gt; | PTS &lt;dbl&gt; |\n",
       "|---|---|---|---|---|---|---|---|---|---|---|---|---|---|---|---|---|---|---|---|---|\n",
       "| 24096 | 2017 | Alex Abrines | SG | 23 | OKC | 68 |    NA | 1055 | 10.1 | ⋯ | 0.898 | NA | NA |  86 | 40 |    NA |    NA | NA | 114 | 406 |\n",
       "| 24097 | 2017 | Quincy Acy   | PF | 26 | TOT | 38 |  TRUE |  558 | 11.8 | ⋯ | 0.750 | NA | NA | 115 | 18 |    NA |    NA | NA |  67 | 222 |\n",
       "| 24098 | 2017 | Quincy Acy   | PF | 26 | DAL |  6 | FALSE |   48 | -1.4 | ⋯ | 0.667 | NA | NA |   8 |  0 | FALSE | FALSE | NA |   9 |  13 |\n",
       "| ⋮ | ⋮ | ⋮ | ⋮ | ⋮ | ⋮ | ⋮ | ⋮ | ⋮ | ⋮ | ⋱ | ⋮ | ⋮ | ⋮ | ⋮ | ⋮ | ⋮ | ⋮ | ⋮ | ⋮ | ⋮ |\n",
       "| 24688 | 2017 | Stephen Zimmerman | C  | 20 | ORL | 19 | FALSE | 108 |  7.3 | ⋯ | 0.600 | NA | NA |  35 |  4 | NA | NA | NA | 17 |  23 |\n",
       "| 24689 | 2017 | Paul Zipser       | SF | 22 | CHI | 44 |    NA | 843 |  6.9 | ⋯ | 0.775 | NA | NA | 125 | 36 | NA | NA | NA | 78 | 240 |\n",
       "| 24690 | 2017 | Ivica Zubac       | C  | 19 | LAL | 38 |    NA | 609 | 17.0 | ⋯ | 0.653 | NA | NA | 159 | 30 | NA | NA | NA | 66 | 284 |\n",
       "\n"
      ],
      "text/plain": [
       "    X1    Year Player            Pos Age Tm  G  GS    MP   PER  ⋯ FT%   ORB DRB\n",
       "1   24096 2017 Alex Abrines      SG  23  OKC 68    NA 1055 10.1 ⋯ 0.898 NA  NA \n",
       "2   24097 2017 Quincy Acy        PF  26  TOT 38  TRUE  558 11.8 ⋯ 0.750 NA  NA \n",
       "3   24098 2017 Quincy Acy        PF  26  DAL  6 FALSE   48 -1.4 ⋯ 0.667 NA  NA \n",
       "⋮   ⋮     ⋮    ⋮                 ⋮   ⋮   ⋮   ⋮  ⋮     ⋮    ⋮    ⋱ ⋮     ⋮   ⋮  \n",
       "593 24688 2017 Stephen Zimmerman C   20  ORL 19 FALSE 108   7.3 ⋯ 0.600 NA  NA \n",
       "594 24689 2017 Paul Zipser       SF  22  CHI 44    NA 843   6.9 ⋯ 0.775 NA  NA \n",
       "595 24690 2017 Ivica Zubac       C   19  LAL 38    NA 609  17.0 ⋯ 0.653 NA  NA \n",
       "    TRB AST STL   BLK   TOV PF  PTS\n",
       "1    86 40     NA    NA NA  114 406\n",
       "2   115 18     NA    NA NA   67 222\n",
       "3     8  0  FALSE FALSE NA    9  13\n",
       "⋮   ⋮   ⋮   ⋮     ⋮     ⋮   ⋮   ⋮  \n",
       "593  35  4  NA    NA    NA  17   23\n",
       "594 125 36  NA    NA    NA  78  240\n",
       "595 159 30  NA    NA    NA  66  284"
      ]
     },
     "metadata": {},
     "output_type": "display_data"
    }
   ],
   "source": [
    "#Wrangling\n",
    "#We only want players in 2017, this is the most current reported data\n",
    "\n",
    "season_data_2017 <- filter(season_data, Year == \"2017\") %>%\n",
    "                    group_by(Player)\n",
    "season_data_2017"
   ]
  },
  {
   "cell_type": "code",
   "execution_count": 34,
   "metadata": {},
   "outputs": [],
   "source": [
    "#convert wanted parameters to class\n",
    "season_data_2017 <- season_data_2017 %>%\n",
    "    mutate(Year = as.numeric(Year)) %>%\n",
    "    mutate(Player = as_factor(Player)) %>%\n",
    "    mutate(PPG = PTS/G) %>%\n",
    "    mutate(APG = AST/G) %>%\n",
    "    mutate(RPG = TRB/G) %>%\n",
    "    #select(Player, PPG, APG, RPG, SPG, BPG, \"3P%\",\"2P%\", \"FT%\", \"FG%\" ) %>%\n",
    "    filter(!is.na(PPG)) %>%\n",
    "    filter(!is.na(APG)) %>%\n",
    "    filter(!is.na(RPG)) %>%\n",
    "    filter(!is.na(\"2P%\")) %>%\n",
    "    filter(!is.na(\"FT%\")) %>%\n",
    "    filter(!is.na(\"FG%\")) \n",
    "# season_data_2017"
   ]
  },
  {
   "cell_type": "code",
   "execution_count": 35,
   "metadata": {},
   "outputs": [
    {
     "data": {
      "text/html": [
       "<table>\n",
       "<caption>A grouped_df: 595 × 8</caption>\n",
       "<thead>\n",
       "\t<tr><th scope=col>Player</th><th scope=col>Pos</th><th scope=col>PPG</th><th scope=col>APG</th><th scope=col>RPG</th><th scope=col>2P%</th><th scope=col>FT%</th><th scope=col>FG%</th></tr>\n",
       "\t<tr><th scope=col>&lt;fct&gt;</th><th scope=col>&lt;chr&gt;</th><th scope=col>&lt;dbl&gt;</th><th scope=col>&lt;dbl&gt;</th><th scope=col>&lt;dbl&gt;</th><th scope=col>&lt;dbl&gt;</th><th scope=col>&lt;dbl&gt;</th><th scope=col>&lt;dbl&gt;</th></tr>\n",
       "</thead>\n",
       "<tbody>\n",
       "\t<tr><td>Alex Abrines</td><td>SG</td><td>5.970588</td><td>0.5882353</td><td>1.264706</td><td>0.426</td><td>0.898</td><td>0.393</td></tr>\n",
       "\t<tr><td>Quincy Acy  </td><td>PF</td><td>5.842105</td><td>0.4736842</td><td>3.026316</td><td>0.413</td><td>0.750</td><td>0.412</td></tr>\n",
       "\t<tr><td>Quincy Acy  </td><td>PF</td><td>2.166667</td><td>0.0000000</td><td>1.333333</td><td>0.400</td><td>0.667</td><td>0.294</td></tr>\n",
       "\t<tr><td>⋮</td><td>⋮</td><td>⋮</td><td>⋮</td><td>⋮</td><td>⋮</td><td>⋮</td><td>⋮</td></tr>\n",
       "\t<tr><td>Stephen Zimmerman</td><td>C </td><td>1.210526</td><td>0.2105263</td><td>1.842105</td><td>0.323</td><td>0.600</td><td>0.323</td></tr>\n",
       "\t<tr><td>Paul Zipser      </td><td>SF</td><td>5.454545</td><td>0.8181818</td><td>2.840909</td><td>0.451</td><td>0.775</td><td>0.398</td></tr>\n",
       "\t<tr><td>Ivica Zubac      </td><td>C </td><td>7.473684</td><td>0.7894737</td><td>4.184211</td><td>0.536</td><td>0.653</td><td>0.529</td></tr>\n",
       "</tbody>\n",
       "</table>\n"
      ],
      "text/latex": [
       "A grouped\\_df: 595 × 8\n",
       "\\begin{tabular}{llllllll}\n",
       " Player & Pos & PPG & APG & RPG & 2P\\% & FT\\% & FG\\%\\\\\n",
       " <fct> & <chr> & <dbl> & <dbl> & <dbl> & <dbl> & <dbl> & <dbl>\\\\\n",
       "\\hline\n",
       "\t Alex Abrines & SG & 5.970588 & 0.5882353 & 1.264706 & 0.426 & 0.898 & 0.393\\\\\n",
       "\t Quincy Acy   & PF & 5.842105 & 0.4736842 & 3.026316 & 0.413 & 0.750 & 0.412\\\\\n",
       "\t Quincy Acy   & PF & 2.166667 & 0.0000000 & 1.333333 & 0.400 & 0.667 & 0.294\\\\\n",
       "\t ⋮ & ⋮ & ⋮ & ⋮ & ⋮ & ⋮ & ⋮ & ⋮\\\\\n",
       "\t Stephen Zimmerman & C  & 1.210526 & 0.2105263 & 1.842105 & 0.323 & 0.600 & 0.323\\\\\n",
       "\t Paul Zipser       & SF & 5.454545 & 0.8181818 & 2.840909 & 0.451 & 0.775 & 0.398\\\\\n",
       "\t Ivica Zubac       & C  & 7.473684 & 0.7894737 & 4.184211 & 0.536 & 0.653 & 0.529\\\\\n",
       "\\end{tabular}\n"
      ],
      "text/markdown": [
       "\n",
       "A grouped_df: 595 × 8\n",
       "\n",
       "| Player &lt;fct&gt; | Pos &lt;chr&gt; | PPG &lt;dbl&gt; | APG &lt;dbl&gt; | RPG &lt;dbl&gt; | 2P% &lt;dbl&gt; | FT% &lt;dbl&gt; | FG% &lt;dbl&gt; |\n",
       "|---|---|---|---|---|---|---|---|\n",
       "| Alex Abrines | SG | 5.970588 | 0.5882353 | 1.264706 | 0.426 | 0.898 | 0.393 |\n",
       "| Quincy Acy   | PF | 5.842105 | 0.4736842 | 3.026316 | 0.413 | 0.750 | 0.412 |\n",
       "| Quincy Acy   | PF | 2.166667 | 0.0000000 | 1.333333 | 0.400 | 0.667 | 0.294 |\n",
       "| ⋮ | ⋮ | ⋮ | ⋮ | ⋮ | ⋮ | ⋮ | ⋮ |\n",
       "| Stephen Zimmerman | C  | 1.210526 | 0.2105263 | 1.842105 | 0.323 | 0.600 | 0.323 |\n",
       "| Paul Zipser       | SF | 5.454545 | 0.8181818 | 2.840909 | 0.451 | 0.775 | 0.398 |\n",
       "| Ivica Zubac       | C  | 7.473684 | 0.7894737 | 4.184211 | 0.536 | 0.653 | 0.529 |\n",
       "\n"
      ],
      "text/plain": [
       "    Player            Pos PPG      APG       RPG      2P%   FT%   FG%  \n",
       "1   Alex Abrines      SG  5.970588 0.5882353 1.264706 0.426 0.898 0.393\n",
       "2   Quincy Acy        PF  5.842105 0.4736842 3.026316 0.413 0.750 0.412\n",
       "3   Quincy Acy        PF  2.166667 0.0000000 1.333333 0.400 0.667 0.294\n",
       "⋮   ⋮                 ⋮   ⋮        ⋮         ⋮        ⋮     ⋮     ⋮    \n",
       "593 Stephen Zimmerman C   1.210526 0.2105263 1.842105 0.323 0.600 0.323\n",
       "594 Paul Zipser       SF  5.454545 0.8181818 2.840909 0.451 0.775 0.398\n",
       "595 Ivica Zubac       C   7.473684 0.7894737 4.184211 0.536 0.653 0.529"
      ]
     },
     "metadata": {},
     "output_type": "display_data"
    }
   ],
   "source": [
    "pulled_season_data_2017 <- season_data_2017 %>%\n",
    "                           select(Player,Pos,PPG,APG,RPG,\"2P%\",\"FT%\",\"FG%\")\n",
    "pulled_season_data_2017"
   ]
  },
  {
   "cell_type": "code",
   "execution_count": 36,
   "metadata": {},
   "outputs": [
    {
     "data": {
      "text/html": [
       "<table>\n",
       "<caption>A grouped_df: 4550 × 9</caption>\n",
       "<thead>\n",
       "\t<tr><th scope=col>name</th><th scope=col>year_start</th><th scope=col>year_end</th><th scope=col>position</th><th scope=col>height</th><th scope=col>weight</th><th scope=col>birth_date</th><th scope=col>college</th><th scope=col>Player</th></tr>\n",
       "\t<tr><th scope=col>&lt;chr&gt;</th><th scope=col>&lt;dbl&gt;</th><th scope=col>&lt;dbl&gt;</th><th scope=col>&lt;chr&gt;</th><th scope=col>&lt;chr&gt;</th><th scope=col>&lt;dbl&gt;</th><th scope=col>&lt;chr&gt;</th><th scope=col>&lt;chr&gt;</th><th scope=col>&lt;chr&gt;</th></tr>\n",
       "</thead>\n",
       "<tbody>\n",
       "\t<tr><td>Alaa Abdelnaby     </td><td>1991</td><td>1995</td><td>F-C</td><td>6-10</td><td>240</td><td>June 24, 1968 </td><td>Duke University                      </td><td>Alaa Abdelnaby     </td></tr>\n",
       "\t<tr><td>Zaid Abdul-Aziz    </td><td>1969</td><td>1978</td><td>C-F</td><td>6-9 </td><td>235</td><td>April 7, 1946 </td><td>Iowa State University                </td><td>Zaid Abdul-Aziz    </td></tr>\n",
       "\t<tr><td>Kareem Abdul-Jabbar</td><td>1970</td><td>1989</td><td>C  </td><td>7-2 </td><td>225</td><td>April 16, 1947</td><td>University of California, Los Angeles</td><td>Kareem Abdul-Jabbar</td></tr>\n",
       "\t<tr><td>⋮</td><td>⋮</td><td>⋮</td><td>⋮</td><td>⋮</td><td>⋮</td><td>⋮</td><td>⋮</td><td>⋮</td></tr>\n",
       "\t<tr><td>Bill Zopf  </td><td>1971</td><td>1971</td><td>G  </td><td>6-1</td><td>170</td><td>June 7, 1948     </td><td>Duquesne University         </td><td>Bill Zopf  </td></tr>\n",
       "\t<tr><td>Ivica Zubac</td><td>2017</td><td>2018</td><td>C  </td><td>7-1</td><td>265</td><td>March 18, 1997   </td><td>NA                          </td><td>Ivica Zubac</td></tr>\n",
       "\t<tr><td>Matt Zunic </td><td>1949</td><td>1949</td><td>G-F</td><td>6-3</td><td>195</td><td>December 19, 1919</td><td>George Washington University</td><td>Matt Zunic </td></tr>\n",
       "</tbody>\n",
       "</table>\n"
      ],
      "text/latex": [
       "A grouped\\_df: 4550 × 9\n",
       "\\begin{tabular}{lllllllll}\n",
       " name & year\\_start & year\\_end & position & height & weight & birth\\_date & college & Player\\\\\n",
       " <chr> & <dbl> & <dbl> & <chr> & <chr> & <dbl> & <chr> & <chr> & <chr>\\\\\n",
       "\\hline\n",
       "\t Alaa Abdelnaby      & 1991 & 1995 & F-C & 6-10 & 240 & June 24, 1968  & Duke University                       & Alaa Abdelnaby     \\\\\n",
       "\t Zaid Abdul-Aziz     & 1969 & 1978 & C-F & 6-9  & 235 & April 7, 1946  & Iowa State University                 & Zaid Abdul-Aziz    \\\\\n",
       "\t Kareem Abdul-Jabbar & 1970 & 1989 & C   & 7-2  & 225 & April 16, 1947 & University of California, Los Angeles & Kareem Abdul-Jabbar\\\\\n",
       "\t ⋮ & ⋮ & ⋮ & ⋮ & ⋮ & ⋮ & ⋮ & ⋮ & ⋮\\\\\n",
       "\t Bill Zopf   & 1971 & 1971 & G   & 6-1 & 170 & June 7, 1948      & Duquesne University          & Bill Zopf  \\\\\n",
       "\t Ivica Zubac & 2017 & 2018 & C   & 7-1 & 265 & March 18, 1997    & NA                           & Ivica Zubac\\\\\n",
       "\t Matt Zunic  & 1949 & 1949 & G-F & 6-3 & 195 & December 19, 1919 & George Washington University & Matt Zunic \\\\\n",
       "\\end{tabular}\n"
      ],
      "text/markdown": [
       "\n",
       "A grouped_df: 4550 × 9\n",
       "\n",
       "| name &lt;chr&gt; | year_start &lt;dbl&gt; | year_end &lt;dbl&gt; | position &lt;chr&gt; | height &lt;chr&gt; | weight &lt;dbl&gt; | birth_date &lt;chr&gt; | college &lt;chr&gt; | Player &lt;chr&gt; |\n",
       "|---|---|---|---|---|---|---|---|---|\n",
       "| Alaa Abdelnaby      | 1991 | 1995 | F-C | 6-10 | 240 | June 24, 1968  | Duke University                       | Alaa Abdelnaby      |\n",
       "| Zaid Abdul-Aziz     | 1969 | 1978 | C-F | 6-9  | 235 | April 7, 1946  | Iowa State University                 | Zaid Abdul-Aziz     |\n",
       "| Kareem Abdul-Jabbar | 1970 | 1989 | C   | 7-2  | 225 | April 16, 1947 | University of California, Los Angeles | Kareem Abdul-Jabbar |\n",
       "| ⋮ | ⋮ | ⋮ | ⋮ | ⋮ | ⋮ | ⋮ | ⋮ | ⋮ |\n",
       "| Bill Zopf   | 1971 | 1971 | G   | 6-1 | 170 | June 7, 1948      | Duquesne University          | Bill Zopf   |\n",
       "| Ivica Zubac | 2017 | 2018 | C   | 7-1 | 265 | March 18, 1997    | NA                           | Ivica Zubac |\n",
       "| Matt Zunic  | 1949 | 1949 | G-F | 6-3 | 195 | December 19, 1919 | George Washington University | Matt Zunic  |\n",
       "\n"
      ],
      "text/plain": [
       "     name                year_start year_end position height weight\n",
       "1    Alaa Abdelnaby      1991       1995     F-C      6-10   240   \n",
       "2    Zaid Abdul-Aziz     1969       1978     C-F      6-9    235   \n",
       "3    Kareem Abdul-Jabbar 1970       1989     C        7-2    225   \n",
       "⋮    ⋮                   ⋮          ⋮        ⋮        ⋮      ⋮     \n",
       "4548 Bill Zopf           1971       1971     G        6-1    170   \n",
       "4549 Ivica Zubac         2017       2018     C        7-1    265   \n",
       "4550 Matt Zunic          1949       1949     G-F      6-3    195   \n",
       "     birth_date        college                              \n",
       "1    June 24, 1968     Duke University                      \n",
       "2    April 7, 1946     Iowa State University                \n",
       "3    April 16, 1947    University of California, Los Angeles\n",
       "⋮    ⋮                 ⋮                                    \n",
       "4548 June 7, 1948      Duquesne University                  \n",
       "4549 March 18, 1997    NA                                   \n",
       "4550 December 19, 1919 George Washington University         \n",
       "     Player             \n",
       "1    Alaa Abdelnaby     \n",
       "2    Zaid Abdul-Aziz    \n",
       "3    Kareem Abdul-Jabbar\n",
       "⋮    ⋮                  \n",
       "4548 Bill Zopf          \n",
       "4549 Ivica Zubac        \n",
       "4550 Matt Zunic         "
      ]
     },
     "metadata": {},
     "output_type": "display_data"
    }
   ],
   "source": [
    "player_data_2017 <- player_data %>%\n",
    "                    mutate(year_start = as.numeric(year_start)) %>%\n",
    "                    mutate(year_end = as.numeric(year_end)) %>%\n",
    "                    mutate(Player = (name)) %>%\n",
    "                    group_by(Player)\n",
    "player_data_2017"
   ]
  },
  {
   "cell_type": "code",
   "execution_count": 37,
   "metadata": {},
   "outputs": [
    {
     "data": {
      "text/html": [
       "<table>\n",
       "<caption>A grouped_df: 500 × 9</caption>\n",
       "<thead>\n",
       "\t<tr><th scope=col>name</th><th scope=col>year_start</th><th scope=col>year_end</th><th scope=col>position</th><th scope=col>height</th><th scope=col>weight</th><th scope=col>birth_date</th><th scope=col>college</th><th scope=col>Player</th></tr>\n",
       "\t<tr><th scope=col>&lt;chr&gt;</th><th scope=col>&lt;dbl&gt;</th><th scope=col>&lt;dbl&gt;</th><th scope=col>&lt;chr&gt;</th><th scope=col>&lt;chr&gt;</th><th scope=col>&lt;dbl&gt;</th><th scope=col>&lt;chr&gt;</th><th scope=col>&lt;chr&gt;</th><th scope=col>&lt;chr&gt;</th></tr>\n",
       "</thead>\n",
       "<tbody>\n",
       "\t<tr><td>Alex Abrines</td><td>2017</td><td>2018</td><td>G-F</td><td>6-6</td><td>190</td><td>August 1, 1993 </td><td>NA                      </td><td>Alex Abrines</td></tr>\n",
       "\t<tr><td>Quincy Acy  </td><td>2013</td><td>2018</td><td>F  </td><td>6-7</td><td>240</td><td>October 6, 1990</td><td>Baylor University       </td><td>Quincy Acy  </td></tr>\n",
       "\t<tr><td>Steven Adams</td><td>2014</td><td>2018</td><td>C  </td><td>7-0</td><td>255</td><td>July 20, 1993  </td><td>University of Pittsburgh</td><td>Steven Adams</td></tr>\n",
       "\t<tr><td>⋮</td><td>⋮</td><td>⋮</td><td>⋮</td><td>⋮</td><td>⋮</td><td>⋮</td><td>⋮</td><td>⋮</td></tr>\n",
       "\t<tr><td>Stephen Zimmerman</td><td>2017</td><td>2017</td><td>C  </td><td>7-0</td><td>240</td><td>September 9, 1996</td><td>University of Nevada, Las Vegas</td><td>Stephen Zimmerman</td></tr>\n",
       "\t<tr><td>Paul Zipser      </td><td>2017</td><td>2018</td><td>G-F</td><td>6-8</td><td>215</td><td>February 18, 1994</td><td>NA                             </td><td>Paul Zipser      </td></tr>\n",
       "\t<tr><td>Ivica Zubac      </td><td>2017</td><td>2018</td><td>C  </td><td>7-1</td><td>265</td><td>March 18, 1997   </td><td>NA                             </td><td>Ivica Zubac      </td></tr>\n",
       "</tbody>\n",
       "</table>\n"
      ],
      "text/latex": [
       "A grouped\\_df: 500 × 9\n",
       "\\begin{tabular}{lllllllll}\n",
       " name & year\\_start & year\\_end & position & height & weight & birth\\_date & college & Player\\\\\n",
       " <chr> & <dbl> & <dbl> & <chr> & <chr> & <dbl> & <chr> & <chr> & <chr>\\\\\n",
       "\\hline\n",
       "\t Alex Abrines & 2017 & 2018 & G-F & 6-6 & 190 & August 1, 1993  & NA                       & Alex Abrines\\\\\n",
       "\t Quincy Acy   & 2013 & 2018 & F   & 6-7 & 240 & October 6, 1990 & Baylor University        & Quincy Acy  \\\\\n",
       "\t Steven Adams & 2014 & 2018 & C   & 7-0 & 255 & July 20, 1993   & University of Pittsburgh & Steven Adams\\\\\n",
       "\t ⋮ & ⋮ & ⋮ & ⋮ & ⋮ & ⋮ & ⋮ & ⋮ & ⋮\\\\\n",
       "\t Stephen Zimmerman & 2017 & 2017 & C   & 7-0 & 240 & September 9, 1996 & University of Nevada, Las Vegas & Stephen Zimmerman\\\\\n",
       "\t Paul Zipser       & 2017 & 2018 & G-F & 6-8 & 215 & February 18, 1994 & NA                              & Paul Zipser      \\\\\n",
       "\t Ivica Zubac       & 2017 & 2018 & C   & 7-1 & 265 & March 18, 1997    & NA                              & Ivica Zubac      \\\\\n",
       "\\end{tabular}\n"
      ],
      "text/markdown": [
       "\n",
       "A grouped_df: 500 × 9\n",
       "\n",
       "| name &lt;chr&gt; | year_start &lt;dbl&gt; | year_end &lt;dbl&gt; | position &lt;chr&gt; | height &lt;chr&gt; | weight &lt;dbl&gt; | birth_date &lt;chr&gt; | college &lt;chr&gt; | Player &lt;chr&gt; |\n",
       "|---|---|---|---|---|---|---|---|---|\n",
       "| Alex Abrines | 2017 | 2018 | G-F | 6-6 | 190 | August 1, 1993  | NA                       | Alex Abrines |\n",
       "| Quincy Acy   | 2013 | 2018 | F   | 6-7 | 240 | October 6, 1990 | Baylor University        | Quincy Acy   |\n",
       "| Steven Adams | 2014 | 2018 | C   | 7-0 | 255 | July 20, 1993   | University of Pittsburgh | Steven Adams |\n",
       "| ⋮ | ⋮ | ⋮ | ⋮ | ⋮ | ⋮ | ⋮ | ⋮ | ⋮ |\n",
       "| Stephen Zimmerman | 2017 | 2017 | C   | 7-0 | 240 | September 9, 1996 | University of Nevada, Las Vegas | Stephen Zimmerman |\n",
       "| Paul Zipser       | 2017 | 2018 | G-F | 6-8 | 215 | February 18, 1994 | NA                              | Paul Zipser       |\n",
       "| Ivica Zubac       | 2017 | 2018 | C   | 7-1 | 265 | March 18, 1997    | NA                              | Ivica Zubac       |\n",
       "\n"
      ],
      "text/plain": [
       "    name              year_start year_end position height weight\n",
       "1   Alex Abrines      2017       2018     G-F      6-6    190   \n",
       "2   Quincy Acy        2013       2018     F        6-7    240   \n",
       "3   Steven Adams      2014       2018     C        7-0    255   \n",
       "⋮   ⋮                 ⋮          ⋮        ⋮        ⋮      ⋮     \n",
       "498 Stephen Zimmerman 2017       2017     C        7-0    240   \n",
       "499 Paul Zipser       2017       2018     G-F      6-8    215   \n",
       "500 Ivica Zubac       2017       2018     C        7-1    265   \n",
       "    birth_date        college                         Player           \n",
       "1   August 1, 1993    NA                              Alex Abrines     \n",
       "2   October 6, 1990   Baylor University               Quincy Acy       \n",
       "3   July 20, 1993     University of Pittsburgh        Steven Adams     \n",
       "⋮   ⋮                 ⋮                               ⋮                \n",
       "498 September 9, 1996 University of Nevada, Las Vegas Stephen Zimmerman\n",
       "499 February 18, 1994 NA                              Paul Zipser      \n",
       "500 March 18, 1997    NA                              Ivica Zubac      "
      ]
     },
     "metadata": {},
     "output_type": "display_data"
    }
   ],
   "source": [
    "player_data_2017 <- filter(player_data_2017, year_start <= 2017, year_end >= 2017) %>%\n",
    "                    group_by(name)\n",
    "player_data_2017"
   ]
  },
  {
   "cell_type": "code",
   "execution_count": 38,
   "metadata": {},
   "outputs": [],
   "source": [
    "feet <- str_extract(player_data_2017$height,\"^[0-9]\")\n",
    "\n",
    "inches <- str_extract(player_data_2017$height,\"[0-9]+$\")\n",
    "\n",
    "feet_as_numeric <- as.numeric(feet)\n",
    "inches_as_numeric <- as.numeric(inches)\n",
    "\n",
    "feet_cm <- (feet_as_numeric)*30.48\n",
    "inches_cm <- (inches_as_numeric)* 2.54\n",
    "\n",
    "height_cm <- feet_cm + inches_cm"
   ]
  },
  {
   "cell_type": "code",
   "execution_count": 39,
   "metadata": {},
   "outputs": [],
   "source": [
    "height_t <- ((as.numeric(str_extract(player_data_2017$height,\"^[0-9]\")))*30.48) + ((as.numeric(str_extract(player_data_2017$height,\"[0-9]+$\")))*2.54)"
   ]
  },
  {
   "cell_type": "code",
   "execution_count": 41,
   "metadata": {},
   "outputs": [
    {
     "data": {
      "text/html": [
       "<table>\n",
       "<caption>A tibble: 500 × 10</caption>\n",
       "<thead>\n",
       "\t<tr><th scope=col>name</th><th scope=col>year_start</th><th scope=col>year_end</th><th scope=col>position</th><th scope=col>height</th><th scope=col>weight</th><th scope=col>birth_date</th><th scope=col>college</th><th scope=col>Player</th><th scope=col>height_cm</th></tr>\n",
       "\t<tr><th scope=col>&lt;chr&gt;</th><th scope=col>&lt;dbl&gt;</th><th scope=col>&lt;dbl&gt;</th><th scope=col>&lt;chr&gt;</th><th scope=col>&lt;chr&gt;</th><th scope=col>&lt;dbl&gt;</th><th scope=col>&lt;chr&gt;</th><th scope=col>&lt;chr&gt;</th><th scope=col>&lt;chr&gt;</th><th scope=col>&lt;dbl&gt;</th></tr>\n",
       "</thead>\n",
       "<tbody>\n",
       "\t<tr><td>A.J. Hammons</td><td>2017</td><td>2017</td><td>C</td><td>7-0</td><td>260</td><td>August 27, 1992   </td><td>Purdue University    </td><td>A.J. Hammons</td><td>213.36</td></tr>\n",
       "\t<tr><td>Aaron Brooks</td><td>2008</td><td>2018</td><td>G</td><td>6-0</td><td>161</td><td>January 14, 1985  </td><td>University of Oregon </td><td>Aaron Brooks</td><td>182.88</td></tr>\n",
       "\t<tr><td>Aaron Gordon</td><td>2015</td><td>2018</td><td>F</td><td>6-9</td><td>220</td><td>September 16, 1995</td><td>University of Arizona</td><td>Aaron Gordon</td><td>205.74</td></tr>\n",
       "\t<tr><td>⋮</td><td>⋮</td><td>⋮</td><td>⋮</td><td>⋮</td><td>⋮</td><td>⋮</td><td>⋮</td><td>⋮</td><td>⋮</td></tr>\n",
       "\t<tr><td>Zach LaVine  </td><td>2015</td><td>2017</td><td>G  </td><td>6-5 </td><td>189</td><td>March 10, 1995   </td><td>University of California, Los Angeles</td><td>Zach LaVine  </td><td>195.58</td></tr>\n",
       "\t<tr><td>Zach Randolph</td><td>2002</td><td>2018</td><td>F-C</td><td>6-9 </td><td>260</td><td>July 16, 1981    </td><td>Michigan State University            </td><td>Zach Randolph</td><td>205.74</td></tr>\n",
       "\t<tr><td>Zaza Pachulia</td><td>2004</td><td>2018</td><td>C  </td><td>6-11</td><td>270</td><td>February 10, 1984</td><td>NA                                   </td><td>Zaza Pachulia</td><td>210.82</td></tr>\n",
       "</tbody>\n",
       "</table>\n"
      ],
      "text/latex": [
       "A tibble: 500 × 10\n",
       "\\begin{tabular}{llllllllll}\n",
       " name & year\\_start & year\\_end & position & height & weight & birth\\_date & college & Player & height\\_cm\\\\\n",
       " <chr> & <dbl> & <dbl> & <chr> & <chr> & <dbl> & <chr> & <chr> & <chr> & <dbl>\\\\\n",
       "\\hline\n",
       "\t A.J. Hammons & 2017 & 2017 & C & 7-0 & 260 & August 27, 1992    & Purdue University     & A.J. Hammons & 213.36\\\\\n",
       "\t Aaron Brooks & 2008 & 2018 & G & 6-0 & 161 & January 14, 1985   & University of Oregon  & Aaron Brooks & 182.88\\\\\n",
       "\t Aaron Gordon & 2015 & 2018 & F & 6-9 & 220 & September 16, 1995 & University of Arizona & Aaron Gordon & 205.74\\\\\n",
       "\t ⋮ & ⋮ & ⋮ & ⋮ & ⋮ & ⋮ & ⋮ & ⋮ & ⋮ & ⋮\\\\\n",
       "\t Zach LaVine   & 2015 & 2017 & G   & 6-5  & 189 & March 10, 1995    & University of California, Los Angeles & Zach LaVine   & 195.58\\\\\n",
       "\t Zach Randolph & 2002 & 2018 & F-C & 6-9  & 260 & July 16, 1981     & Michigan State University             & Zach Randolph & 205.74\\\\\n",
       "\t Zaza Pachulia & 2004 & 2018 & C   & 6-11 & 270 & February 10, 1984 & NA                                    & Zaza Pachulia & 210.82\\\\\n",
       "\\end{tabular}\n"
      ],
      "text/markdown": [
       "\n",
       "A tibble: 500 × 10\n",
       "\n",
       "| name &lt;chr&gt; | year_start &lt;dbl&gt; | year_end &lt;dbl&gt; | position &lt;chr&gt; | height &lt;chr&gt; | weight &lt;dbl&gt; | birth_date &lt;chr&gt; | college &lt;chr&gt; | Player &lt;chr&gt; | height_cm &lt;dbl&gt; |\n",
       "|---|---|---|---|---|---|---|---|---|---|\n",
       "| A.J. Hammons | 2017 | 2017 | C | 7-0 | 260 | August 27, 1992    | Purdue University     | A.J. Hammons | 213.36 |\n",
       "| Aaron Brooks | 2008 | 2018 | G | 6-0 | 161 | January 14, 1985   | University of Oregon  | Aaron Brooks | 182.88 |\n",
       "| Aaron Gordon | 2015 | 2018 | F | 6-9 | 220 | September 16, 1995 | University of Arizona | Aaron Gordon | 205.74 |\n",
       "| ⋮ | ⋮ | ⋮ | ⋮ | ⋮ | ⋮ | ⋮ | ⋮ | ⋮ | ⋮ |\n",
       "| Zach LaVine   | 2015 | 2017 | G   | 6-5  | 189 | March 10, 1995    | University of California, Los Angeles | Zach LaVine   | 195.58 |\n",
       "| Zach Randolph | 2002 | 2018 | F-C | 6-9  | 260 | July 16, 1981     | Michigan State University             | Zach Randolph | 205.74 |\n",
       "| Zaza Pachulia | 2004 | 2018 | C   | 6-11 | 270 | February 10, 1984 | NA                                    | Zaza Pachulia | 210.82 |\n",
       "\n"
      ],
      "text/plain": [
       "    name          year_start year_end position height weight birth_date        \n",
       "1   A.J. Hammons  2017       2017     C        7-0    260    August 27, 1992   \n",
       "2   Aaron Brooks  2008       2018     G        6-0    161    January 14, 1985  \n",
       "3   Aaron Gordon  2015       2018     F        6-9    220    September 16, 1995\n",
       "⋮   ⋮             ⋮          ⋮        ⋮        ⋮      ⋮      ⋮                 \n",
       "498 Zach LaVine   2015       2017     G        6-5    189    March 10, 1995    \n",
       "499 Zach Randolph 2002       2018     F-C      6-9    260    July 16, 1981     \n",
       "500 Zaza Pachulia 2004       2018     C        6-11   270    February 10, 1984 \n",
       "    college                               Player        height_cm\n",
       "1   Purdue University                     A.J. Hammons  213.36   \n",
       "2   University of Oregon                  Aaron Brooks  182.88   \n",
       "3   University of Arizona                 Aaron Gordon  205.74   \n",
       "⋮   ⋮                                     ⋮             ⋮        \n",
       "498 University of California, Los Angeles Zach LaVine   195.58   \n",
       "499 Michigan State University             Zach Randolph 205.74   \n",
       "500 NA                                    Zaza Pachulia 210.82   "
      ]
     },
     "metadata": {},
     "output_type": "display_data"
    }
   ],
   "source": [
    "player_data_2017 <- player_data_2017 %>%\n",
    "    mutate(height_cm = ((as.numeric(str_extract((height),\"^[0-9]\")))*30.48) + ((as.numeric(str_extract((height),\"[0-9]+$\")))*2.54)) %>%\n",
    "    summarize(across(na.rm = TRUE))\n",
    "player_data_2017"
   ]
  },
  {
   "cell_type": "code",
   "execution_count": 42,
   "metadata": {},
   "outputs": [
    {
     "data": {
      "text/html": [
       "<table>\n",
       "<caption>A tibble: 500 × 3</caption>\n",
       "<thead>\n",
       "\t<tr><th scope=col>Player</th><th scope=col>weight</th><th scope=col>height_cm</th></tr>\n",
       "\t<tr><th scope=col>&lt;chr&gt;</th><th scope=col>&lt;dbl&gt;</th><th scope=col>&lt;dbl&gt;</th></tr>\n",
       "</thead>\n",
       "<tbody>\n",
       "\t<tr><td>A.J. Hammons</td><td>260</td><td>213.36</td></tr>\n",
       "\t<tr><td>Aaron Brooks</td><td>161</td><td>182.88</td></tr>\n",
       "\t<tr><td>Aaron Gordon</td><td>220</td><td>205.74</td></tr>\n",
       "\t<tr><td>⋮</td><td>⋮</td><td>⋮</td></tr>\n",
       "\t<tr><td>Zach LaVine  </td><td>189</td><td>195.58</td></tr>\n",
       "\t<tr><td>Zach Randolph</td><td>260</td><td>205.74</td></tr>\n",
       "\t<tr><td>Zaza Pachulia</td><td>270</td><td>210.82</td></tr>\n",
       "</tbody>\n",
       "</table>\n"
      ],
      "text/latex": [
       "A tibble: 500 × 3\n",
       "\\begin{tabular}{lll}\n",
       " Player & weight & height\\_cm\\\\\n",
       " <chr> & <dbl> & <dbl>\\\\\n",
       "\\hline\n",
       "\t A.J. Hammons & 260 & 213.36\\\\\n",
       "\t Aaron Brooks & 161 & 182.88\\\\\n",
       "\t Aaron Gordon & 220 & 205.74\\\\\n",
       "\t ⋮ & ⋮ & ⋮\\\\\n",
       "\t Zach LaVine   & 189 & 195.58\\\\\n",
       "\t Zach Randolph & 260 & 205.74\\\\\n",
       "\t Zaza Pachulia & 270 & 210.82\\\\\n",
       "\\end{tabular}\n"
      ],
      "text/markdown": [
       "\n",
       "A tibble: 500 × 3\n",
       "\n",
       "| Player &lt;chr&gt; | weight &lt;dbl&gt; | height_cm &lt;dbl&gt; |\n",
       "|---|---|---|\n",
       "| A.J. Hammons | 260 | 213.36 |\n",
       "| Aaron Brooks | 161 | 182.88 |\n",
       "| Aaron Gordon | 220 | 205.74 |\n",
       "| ⋮ | ⋮ | ⋮ |\n",
       "| Zach LaVine   | 189 | 195.58 |\n",
       "| Zach Randolph | 260 | 205.74 |\n",
       "| Zaza Pachulia | 270 | 210.82 |\n",
       "\n"
      ],
      "text/plain": [
       "    Player        weight height_cm\n",
       "1   A.J. Hammons  260    213.36   \n",
       "2   Aaron Brooks  161    182.88   \n",
       "3   Aaron Gordon  220    205.74   \n",
       "⋮   ⋮             ⋮      ⋮        \n",
       "498 Zach LaVine   189    195.58   \n",
       "499 Zach Randolph 260    205.74   \n",
       "500 Zaza Pachulia 270    210.82   "
      ]
     },
     "metadata": {},
     "output_type": "display_data"
    }
   ],
   "source": [
    "pulled_player_data_2017 <- player_data_2017 %>%\n",
    "                           select(Player,weight,height_cm)\n",
    "pulled_player_data_2017"
   ]
  },
  {
   "cell_type": "code",
   "execution_count": 43,
   "metadata": {},
   "outputs": [
    {
     "data": {
      "text/html": [
       "<table>\n",
       "<caption>A data.frame: 590 × 10</caption>\n",
       "<thead>\n",
       "\t<tr><th scope=col>Player</th><th scope=col>Pos</th><th scope=col>PPG</th><th scope=col>APG</th><th scope=col>RPG</th><th scope=col>2P%</th><th scope=col>FT%</th><th scope=col>FG%</th><th scope=col>weight</th><th scope=col>height_cm</th></tr>\n",
       "\t<tr><th scope=col>&lt;fct&gt;</th><th scope=col>&lt;chr&gt;</th><th scope=col>&lt;dbl&gt;</th><th scope=col>&lt;dbl&gt;</th><th scope=col>&lt;dbl&gt;</th><th scope=col>&lt;dbl&gt;</th><th scope=col>&lt;dbl&gt;</th><th scope=col>&lt;dbl&gt;</th><th scope=col>&lt;dbl&gt;</th><th scope=col>&lt;dbl&gt;</th></tr>\n",
       "</thead>\n",
       "<tbody>\n",
       "\t<tr><td>A.J. Hammons</td><td>C </td><td> 2.181818</td><td>0.1818182</td><td>1.636364</td><td>0.375</td><td>0.450</td><td>0.405</td><td>260</td><td>213.36</td></tr>\n",
       "\t<tr><td>Aaron Brooks</td><td>PG</td><td> 4.953846</td><td>1.9230769</td><td>1.061538</td><td>0.424</td><td>0.800</td><td>0.403</td><td>161</td><td>182.88</td></tr>\n",
       "\t<tr><td>Aaron Gordon</td><td>SF</td><td>12.737500</td><td>1.8750000</td><td>5.062500</td><td>0.528</td><td>0.719</td><td>0.454</td><td>220</td><td>205.74</td></tr>\n",
       "\t<tr><td>⋮</td><td>⋮</td><td>⋮</td><td>⋮</td><td>⋮</td><td>⋮</td><td>⋮</td><td>⋮</td><td>⋮</td><td>⋮</td></tr>\n",
       "\t<tr><td>Zach LaVine  </td><td>SG</td><td>18.914894</td><td>2.957447</td><td>3.382979</td><td>0.515</td><td>0.836</td><td>0.459</td><td>189</td><td>195.58</td></tr>\n",
       "\t<tr><td>Zach Randolph</td><td>PF</td><td>14.082192</td><td>1.671233</td><td>8.191781</td><td>0.474</td><td>0.731</td><td>0.449</td><td>260</td><td>205.74</td></tr>\n",
       "\t<tr><td>Zaza Pachulia</td><td>C </td><td> 6.085714</td><td>1.885714</td><td>5.857143</td><td>0.538</td><td>0.778</td><td>0.534</td><td>270</td><td>210.82</td></tr>\n",
       "</tbody>\n",
       "</table>\n"
      ],
      "text/latex": [
       "A data.frame: 590 × 10\n",
       "\\begin{tabular}{llllllllll}\n",
       " Player & Pos & PPG & APG & RPG & 2P\\% & FT\\% & FG\\% & weight & height\\_cm\\\\\n",
       " <fct> & <chr> & <dbl> & <dbl> & <dbl> & <dbl> & <dbl> & <dbl> & <dbl> & <dbl>\\\\\n",
       "\\hline\n",
       "\t A.J. Hammons & C  &  2.181818 & 0.1818182 & 1.636364 & 0.375 & 0.450 & 0.405 & 260 & 213.36\\\\\n",
       "\t Aaron Brooks & PG &  4.953846 & 1.9230769 & 1.061538 & 0.424 & 0.800 & 0.403 & 161 & 182.88\\\\\n",
       "\t Aaron Gordon & SF & 12.737500 & 1.8750000 & 5.062500 & 0.528 & 0.719 & 0.454 & 220 & 205.74\\\\\n",
       "\t ⋮ & ⋮ & ⋮ & ⋮ & ⋮ & ⋮ & ⋮ & ⋮ & ⋮ & ⋮\\\\\n",
       "\t Zach LaVine   & SG & 18.914894 & 2.957447 & 3.382979 & 0.515 & 0.836 & 0.459 & 189 & 195.58\\\\\n",
       "\t Zach Randolph & PF & 14.082192 & 1.671233 & 8.191781 & 0.474 & 0.731 & 0.449 & 260 & 205.74\\\\\n",
       "\t Zaza Pachulia & C  &  6.085714 & 1.885714 & 5.857143 & 0.538 & 0.778 & 0.534 & 270 & 210.82\\\\\n",
       "\\end{tabular}\n"
      ],
      "text/markdown": [
       "\n",
       "A data.frame: 590 × 10\n",
       "\n",
       "| Player &lt;fct&gt; | Pos &lt;chr&gt; | PPG &lt;dbl&gt; | APG &lt;dbl&gt; | RPG &lt;dbl&gt; | 2P% &lt;dbl&gt; | FT% &lt;dbl&gt; | FG% &lt;dbl&gt; | weight &lt;dbl&gt; | height_cm &lt;dbl&gt; |\n",
       "|---|---|---|---|---|---|---|---|---|---|\n",
       "| A.J. Hammons | C  |  2.181818 | 0.1818182 | 1.636364 | 0.375 | 0.450 | 0.405 | 260 | 213.36 |\n",
       "| Aaron Brooks | PG |  4.953846 | 1.9230769 | 1.061538 | 0.424 | 0.800 | 0.403 | 161 | 182.88 |\n",
       "| Aaron Gordon | SF | 12.737500 | 1.8750000 | 5.062500 | 0.528 | 0.719 | 0.454 | 220 | 205.74 |\n",
       "| ⋮ | ⋮ | ⋮ | ⋮ | ⋮ | ⋮ | ⋮ | ⋮ | ⋮ | ⋮ |\n",
       "| Zach LaVine   | SG | 18.914894 | 2.957447 | 3.382979 | 0.515 | 0.836 | 0.459 | 189 | 195.58 |\n",
       "| Zach Randolph | PF | 14.082192 | 1.671233 | 8.191781 | 0.474 | 0.731 | 0.449 | 260 | 205.74 |\n",
       "| Zaza Pachulia | C  |  6.085714 | 1.885714 | 5.857143 | 0.538 | 0.778 | 0.534 | 270 | 210.82 |\n",
       "\n"
      ],
      "text/plain": [
       "    Player        Pos PPG       APG       RPG      2P%   FT%   FG%   weight\n",
       "1   A.J. Hammons  C    2.181818 0.1818182 1.636364 0.375 0.450 0.405 260   \n",
       "2   Aaron Brooks  PG   4.953846 1.9230769 1.061538 0.424 0.800 0.403 161   \n",
       "3   Aaron Gordon  SF  12.737500 1.8750000 5.062500 0.528 0.719 0.454 220   \n",
       "⋮   ⋮             ⋮   ⋮         ⋮         ⋮        ⋮     ⋮     ⋮     ⋮     \n",
       "588 Zach LaVine   SG  18.914894 2.957447  3.382979 0.515 0.836 0.459 189   \n",
       "589 Zach Randolph PF  14.082192 1.671233  8.191781 0.474 0.731 0.449 260   \n",
       "590 Zaza Pachulia C    6.085714 1.885714  5.857143 0.538 0.778 0.534 270   \n",
       "    height_cm\n",
       "1   213.36   \n",
       "2   182.88   \n",
       "3   205.74   \n",
       "⋮   ⋮        \n",
       "588 195.58   \n",
       "589 205.74   \n",
       "590 210.82   "
      ]
     },
     "metadata": {},
     "output_type": "display_data"
    }
   ],
   "source": [
    "basketball_data_2017 <- merge(pulled_season_data_2017,pulled_player_data_2017, by = \"Player\")\n",
    "basketball_data_2017"
   ]
  },
  {
   "cell_type": "code",
   "execution_count": 44,
   "metadata": {},
   "outputs": [
    {
     "data": {
      "text/html": [
       "<table>\n",
       "<caption>A data.frame: 590 × 10</caption>\n",
       "<thead>\n",
       "\t<tr><th scope=col>Player</th><th scope=col>Pos</th><th scope=col>PPG</th><th scope=col>APG</th><th scope=col>RPG</th><th scope=col>Two_Point_Percentage</th><th scope=col>Free_Throw_Percentage</th><th scope=col>Field_Goal_Percentage</th><th scope=col>Weight</th><th scope=col>Height_cm</th></tr>\n",
       "\t<tr><th scope=col>&lt;fct&gt;</th><th scope=col>&lt;fct&gt;</th><th scope=col>&lt;dbl&gt;</th><th scope=col>&lt;dbl&gt;</th><th scope=col>&lt;dbl&gt;</th><th scope=col>&lt;dbl&gt;</th><th scope=col>&lt;dbl&gt;</th><th scope=col>&lt;dbl&gt;</th><th scope=col>&lt;dbl&gt;</th><th scope=col>&lt;dbl&gt;</th></tr>\n",
       "</thead>\n",
       "<tbody>\n",
       "\t<tr><td>A.J. Hammons</td><td>C </td><td> 2.181818</td><td>0.1818182</td><td>1.636364</td><td>0.375</td><td>0.450</td><td>0.405</td><td>260</td><td>213.36</td></tr>\n",
       "\t<tr><td>Aaron Brooks</td><td>PG</td><td> 4.953846</td><td>1.9230769</td><td>1.061538</td><td>0.424</td><td>0.800</td><td>0.403</td><td>161</td><td>182.88</td></tr>\n",
       "\t<tr><td>Aaron Gordon</td><td>SF</td><td>12.737500</td><td>1.8750000</td><td>5.062500</td><td>0.528</td><td>0.719</td><td>0.454</td><td>220</td><td>205.74</td></tr>\n",
       "\t<tr><td>⋮</td><td>⋮</td><td>⋮</td><td>⋮</td><td>⋮</td><td>⋮</td><td>⋮</td><td>⋮</td><td>⋮</td><td>⋮</td></tr>\n",
       "\t<tr><td>Zach LaVine  </td><td>SG</td><td>18.914894</td><td>2.957447</td><td>3.382979</td><td>0.515</td><td>0.836</td><td>0.459</td><td>189</td><td>195.58</td></tr>\n",
       "\t<tr><td>Zach Randolph</td><td>PF</td><td>14.082192</td><td>1.671233</td><td>8.191781</td><td>0.474</td><td>0.731</td><td>0.449</td><td>260</td><td>205.74</td></tr>\n",
       "\t<tr><td>Zaza Pachulia</td><td>C </td><td> 6.085714</td><td>1.885714</td><td>5.857143</td><td>0.538</td><td>0.778</td><td>0.534</td><td>270</td><td>210.82</td></tr>\n",
       "</tbody>\n",
       "</table>\n"
      ],
      "text/latex": [
       "A data.frame: 590 × 10\n",
       "\\begin{tabular}{llllllllll}\n",
       " Player & Pos & PPG & APG & RPG & Two\\_Point\\_Percentage & Free\\_Throw\\_Percentage & Field\\_Goal\\_Percentage & Weight & Height\\_cm\\\\\n",
       " <fct> & <fct> & <dbl> & <dbl> & <dbl> & <dbl> & <dbl> & <dbl> & <dbl> & <dbl>\\\\\n",
       "\\hline\n",
       "\t A.J. Hammons & C  &  2.181818 & 0.1818182 & 1.636364 & 0.375 & 0.450 & 0.405 & 260 & 213.36\\\\\n",
       "\t Aaron Brooks & PG &  4.953846 & 1.9230769 & 1.061538 & 0.424 & 0.800 & 0.403 & 161 & 182.88\\\\\n",
       "\t Aaron Gordon & SF & 12.737500 & 1.8750000 & 5.062500 & 0.528 & 0.719 & 0.454 & 220 & 205.74\\\\\n",
       "\t ⋮ & ⋮ & ⋮ & ⋮ & ⋮ & ⋮ & ⋮ & ⋮ & ⋮ & ⋮\\\\\n",
       "\t Zach LaVine   & SG & 18.914894 & 2.957447 & 3.382979 & 0.515 & 0.836 & 0.459 & 189 & 195.58\\\\\n",
       "\t Zach Randolph & PF & 14.082192 & 1.671233 & 8.191781 & 0.474 & 0.731 & 0.449 & 260 & 205.74\\\\\n",
       "\t Zaza Pachulia & C  &  6.085714 & 1.885714 & 5.857143 & 0.538 & 0.778 & 0.534 & 270 & 210.82\\\\\n",
       "\\end{tabular}\n"
      ],
      "text/markdown": [
       "\n",
       "A data.frame: 590 × 10\n",
       "\n",
       "| Player &lt;fct&gt; | Pos &lt;fct&gt; | PPG &lt;dbl&gt; | APG &lt;dbl&gt; | RPG &lt;dbl&gt; | Two_Point_Percentage &lt;dbl&gt; | Free_Throw_Percentage &lt;dbl&gt; | Field_Goal_Percentage &lt;dbl&gt; | Weight &lt;dbl&gt; | Height_cm &lt;dbl&gt; |\n",
       "|---|---|---|---|---|---|---|---|---|---|\n",
       "| A.J. Hammons | C  |  2.181818 | 0.1818182 | 1.636364 | 0.375 | 0.450 | 0.405 | 260 | 213.36 |\n",
       "| Aaron Brooks | PG |  4.953846 | 1.9230769 | 1.061538 | 0.424 | 0.800 | 0.403 | 161 | 182.88 |\n",
       "| Aaron Gordon | SF | 12.737500 | 1.8750000 | 5.062500 | 0.528 | 0.719 | 0.454 | 220 | 205.74 |\n",
       "| ⋮ | ⋮ | ⋮ | ⋮ | ⋮ | ⋮ | ⋮ | ⋮ | ⋮ | ⋮ |\n",
       "| Zach LaVine   | SG | 18.914894 | 2.957447 | 3.382979 | 0.515 | 0.836 | 0.459 | 189 | 195.58 |\n",
       "| Zach Randolph | PF | 14.082192 | 1.671233 | 8.191781 | 0.474 | 0.731 | 0.449 | 260 | 205.74 |\n",
       "| Zaza Pachulia | C  |  6.085714 | 1.885714 | 5.857143 | 0.538 | 0.778 | 0.534 | 270 | 210.82 |\n",
       "\n"
      ],
      "text/plain": [
       "    Player        Pos PPG       APG       RPG      Two_Point_Percentage\n",
       "1   A.J. Hammons  C    2.181818 0.1818182 1.636364 0.375               \n",
       "2   Aaron Brooks  PG   4.953846 1.9230769 1.061538 0.424               \n",
       "3   Aaron Gordon  SF  12.737500 1.8750000 5.062500 0.528               \n",
       "⋮   ⋮             ⋮   ⋮         ⋮         ⋮        ⋮                   \n",
       "588 Zach LaVine   SG  18.914894 2.957447  3.382979 0.515               \n",
       "589 Zach Randolph PF  14.082192 1.671233  8.191781 0.474               \n",
       "590 Zaza Pachulia C    6.085714 1.885714  5.857143 0.538               \n",
       "    Free_Throw_Percentage Field_Goal_Percentage Weight Height_cm\n",
       "1   0.450                 0.405                 260    213.36   \n",
       "2   0.800                 0.403                 161    182.88   \n",
       "3   0.719                 0.454                 220    205.74   \n",
       "⋮   ⋮                     ⋮                     ⋮      ⋮        \n",
       "588 0.836                 0.459                 189    195.58   \n",
       "589 0.731                 0.449                 260    205.74   \n",
       "590 0.778                 0.534                 270    210.82   "
      ]
     },
     "metadata": {},
     "output_type": "display_data"
    }
   ],
   "source": [
    "basketball_data_2017 <- basketball_data_2017 %>%\n",
    "                        mutate(basketball_data_2017, Pos = as_factor(Pos)) %>%\n",
    "                        rename(Two_Point_Percentage = \"2P%\", Free_Throw_Percentage = \"FT%\" , Field_Goal_Percentage = \"FG%\", Weight = weight, Height_cm = height_cm)\n",
    "basketball_data_2017"
   ]
  },
  {
   "cell_type": "code",
   "execution_count": 45,
   "metadata": {},
   "outputs": [
    {
     "data": {
      "text/html": [
       "<table>\n",
       "<caption>A data.frame: 566 × 10</caption>\n",
       "<thead>\n",
       "\t<tr><th scope=col>Player</th><th scope=col>Pos</th><th scope=col>PPG</th><th scope=col>APG</th><th scope=col>RPG</th><th scope=col>Two_Point_Percentage</th><th scope=col>Free_Throw_Percentage</th><th scope=col>Field_Goal_Percentage</th><th scope=col>Weight</th><th scope=col>Height_cm</th></tr>\n",
       "\t<tr><th scope=col>&lt;fct&gt;</th><th scope=col>&lt;fct&gt;</th><th scope=col>&lt;dbl&gt;</th><th scope=col>&lt;dbl&gt;</th><th scope=col>&lt;dbl&gt;</th><th scope=col>&lt;dbl&gt;</th><th scope=col>&lt;dbl&gt;</th><th scope=col>&lt;dbl&gt;</th><th scope=col>&lt;dbl&gt;</th><th scope=col>&lt;dbl&gt;</th></tr>\n",
       "</thead>\n",
       "<tbody>\n",
       "\t<tr><td>A.J. Hammons</td><td>C </td><td> 2.181818</td><td>0.1818182</td><td>1.636364</td><td>0.375</td><td>0.450</td><td>0.405</td><td>260</td><td>213.36</td></tr>\n",
       "\t<tr><td>Aaron Brooks</td><td>PG</td><td> 4.953846</td><td>1.9230769</td><td>1.061538</td><td>0.424</td><td>0.800</td><td>0.403</td><td>161</td><td>182.88</td></tr>\n",
       "\t<tr><td>Aaron Gordon</td><td>SF</td><td>12.737500</td><td>1.8750000</td><td>5.062500</td><td>0.528</td><td>0.719</td><td>0.454</td><td>220</td><td>205.74</td></tr>\n",
       "\t<tr><td>⋮</td><td>⋮</td><td>⋮</td><td>⋮</td><td>⋮</td><td>⋮</td><td>⋮</td><td>⋮</td><td>⋮</td><td>⋮</td></tr>\n",
       "\t<tr><td>Zach LaVine  </td><td>SG</td><td>18.914894</td><td>2.957447</td><td>3.382979</td><td>0.515</td><td>0.836</td><td>0.459</td><td>189</td><td>195.58</td></tr>\n",
       "\t<tr><td>Zach Randolph</td><td>PF</td><td>14.082192</td><td>1.671233</td><td>8.191781</td><td>0.474</td><td>0.731</td><td>0.449</td><td>260</td><td>205.74</td></tr>\n",
       "\t<tr><td>Zaza Pachulia</td><td>C </td><td> 6.085714</td><td>1.885714</td><td>5.857143</td><td>0.538</td><td>0.778</td><td>0.534</td><td>270</td><td>210.82</td></tr>\n",
       "</tbody>\n",
       "</table>\n"
      ],
      "text/latex": [
       "A data.frame: 566 × 10\n",
       "\\begin{tabular}{llllllllll}\n",
       " Player & Pos & PPG & APG & RPG & Two\\_Point\\_Percentage & Free\\_Throw\\_Percentage & Field\\_Goal\\_Percentage & Weight & Height\\_cm\\\\\n",
       " <fct> & <fct> & <dbl> & <dbl> & <dbl> & <dbl> & <dbl> & <dbl> & <dbl> & <dbl>\\\\\n",
       "\\hline\n",
       "\t A.J. Hammons & C  &  2.181818 & 0.1818182 & 1.636364 & 0.375 & 0.450 & 0.405 & 260 & 213.36\\\\\n",
       "\t Aaron Brooks & PG &  4.953846 & 1.9230769 & 1.061538 & 0.424 & 0.800 & 0.403 & 161 & 182.88\\\\\n",
       "\t Aaron Gordon & SF & 12.737500 & 1.8750000 & 5.062500 & 0.528 & 0.719 & 0.454 & 220 & 205.74\\\\\n",
       "\t ⋮ & ⋮ & ⋮ & ⋮ & ⋮ & ⋮ & ⋮ & ⋮ & ⋮ & ⋮\\\\\n",
       "\t Zach LaVine   & SG & 18.914894 & 2.957447 & 3.382979 & 0.515 & 0.836 & 0.459 & 189 & 195.58\\\\\n",
       "\t Zach Randolph & PF & 14.082192 & 1.671233 & 8.191781 & 0.474 & 0.731 & 0.449 & 260 & 205.74\\\\\n",
       "\t Zaza Pachulia & C  &  6.085714 & 1.885714 & 5.857143 & 0.538 & 0.778 & 0.534 & 270 & 210.82\\\\\n",
       "\\end{tabular}\n"
      ],
      "text/markdown": [
       "\n",
       "A data.frame: 566 × 10\n",
       "\n",
       "| Player &lt;fct&gt; | Pos &lt;fct&gt; | PPG &lt;dbl&gt; | APG &lt;dbl&gt; | RPG &lt;dbl&gt; | Two_Point_Percentage &lt;dbl&gt; | Free_Throw_Percentage &lt;dbl&gt; | Field_Goal_Percentage &lt;dbl&gt; | Weight &lt;dbl&gt; | Height_cm &lt;dbl&gt; |\n",
       "|---|---|---|---|---|---|---|---|---|---|\n",
       "| A.J. Hammons | C  |  2.181818 | 0.1818182 | 1.636364 | 0.375 | 0.450 | 0.405 | 260 | 213.36 |\n",
       "| Aaron Brooks | PG |  4.953846 | 1.9230769 | 1.061538 | 0.424 | 0.800 | 0.403 | 161 | 182.88 |\n",
       "| Aaron Gordon | SF | 12.737500 | 1.8750000 | 5.062500 | 0.528 | 0.719 | 0.454 | 220 | 205.74 |\n",
       "| ⋮ | ⋮ | ⋮ | ⋮ | ⋮ | ⋮ | ⋮ | ⋮ | ⋮ | ⋮ |\n",
       "| Zach LaVine   | SG | 18.914894 | 2.957447 | 3.382979 | 0.515 | 0.836 | 0.459 | 189 | 195.58 |\n",
       "| Zach Randolph | PF | 14.082192 | 1.671233 | 8.191781 | 0.474 | 0.731 | 0.449 | 260 | 205.74 |\n",
       "| Zaza Pachulia | C  |  6.085714 | 1.885714 | 5.857143 | 0.538 | 0.778 | 0.534 | 270 | 210.82 |\n",
       "\n"
      ],
      "text/plain": [
       "    Player        Pos PPG       APG       RPG      Two_Point_Percentage\n",
       "1   A.J. Hammons  C    2.181818 0.1818182 1.636364 0.375               \n",
       "2   Aaron Brooks  PG   4.953846 1.9230769 1.061538 0.424               \n",
       "3   Aaron Gordon  SF  12.737500 1.8750000 5.062500 0.528               \n",
       "⋮   ⋮             ⋮   ⋮         ⋮         ⋮        ⋮                   \n",
       "564 Zach LaVine   SG  18.914894 2.957447  3.382979 0.515               \n",
       "565 Zach Randolph PF  14.082192 1.671233  8.191781 0.474               \n",
       "566 Zaza Pachulia C    6.085714 1.885714  5.857143 0.538               \n",
       "    Free_Throw_Percentage Field_Goal_Percentage Weight Height_cm\n",
       "1   0.450                 0.405                 260    213.36   \n",
       "2   0.800                 0.403                 161    182.88   \n",
       "3   0.719                 0.454                 220    205.74   \n",
       "⋮   ⋮                     ⋮                     ⋮      ⋮        \n",
       "564 0.836                 0.459                 189    195.58   \n",
       "565 0.731                 0.449                 260    205.74   \n",
       "566 0.778                 0.534                 270    210.82   "
      ]
     },
     "metadata": {},
     "output_type": "display_data"
    }
   ],
   "source": [
    "basketball_data_2017 <- basketball_data_2017 %>%   \n",
    "# #                         filter(!is.na(Player)) %>%\n",
    "# #                         filter(!is.na(Pos)) %>% \n",
    "#                         filter(!is.na(PPG)) %>%\n",
    "#                         filter(!is.na(APG)) %>%\n",
    "#                         filter(!is.na(RPG)) %>%\n",
    "                        filter(!is.na(Two_Point_Percentage)) %>%\n",
    "                        filter(!is.na(Free_Throw_Percentage)) %>%\n",
    "                        filter(!is.na(Field_Goal_Percentage)) %>%\n",
    "                        filter(!is.na(Weight)) %>%\n",
    "                        filter(!is.na(Height_cm)) \n",
    "basketball_data_2017"
   ]
  },
  {
   "cell_type": "code",
   "execution_count": 46,
   "metadata": {},
   "outputs": [
    {
     "data": {
      "text/html": [
       "<table>\n",
       "<caption>A data.frame: 427 × 10</caption>\n",
       "<thead>\n",
       "\t<tr><th></th><th scope=col>Player</th><th scope=col>Pos</th><th scope=col>PPG</th><th scope=col>APG</th><th scope=col>RPG</th><th scope=col>Two_Point_Percentage</th><th scope=col>Free_Throw_Percentage</th><th scope=col>Field_Goal_Percentage</th><th scope=col>Weight</th><th scope=col>Height_cm</th></tr>\n",
       "\t<tr><th></th><th scope=col>&lt;fct&gt;</th><th scope=col>&lt;fct&gt;</th><th scope=col>&lt;dbl&gt;</th><th scope=col>&lt;dbl&gt;</th><th scope=col>&lt;dbl&gt;</th><th scope=col>&lt;dbl&gt;</th><th scope=col>&lt;dbl&gt;</th><th scope=col>&lt;dbl&gt;</th><th scope=col>&lt;dbl&gt;</th><th scope=col>&lt;dbl&gt;</th></tr>\n",
       "</thead>\n",
       "<tbody>\n",
       "\t<tr><th scope=row>1</th><td>A.J. Hammons  </td><td>C </td><td>2.181818</td><td>0.1818182</td><td>1.636364</td><td>0.375</td><td>0.45</td><td>0.405</td><td>260</td><td>213.36</td></tr>\n",
       "\t<tr><th scope=row>2</th><td>Aaron Brooks  </td><td>PG</td><td>4.953846</td><td>1.9230769</td><td>1.061538</td><td>0.424</td><td>0.80</td><td>0.403</td><td>161</td><td>182.88</td></tr>\n",
       "\t<tr><th scope=row>4</th><td>Aaron Harrison</td><td>SG</td><td>0.200000</td><td>0.6000000</td><td>0.600000</td><td>0.000</td><td>0.50</td><td>0.000</td><td>210</td><td>198.12</td></tr>\n",
       "\t<tr><th scope=row>⋮</th><td>⋮</td><td>⋮</td><td>⋮</td><td>⋮</td><td>⋮</td><td>⋮</td><td>⋮</td><td>⋮</td><td>⋮</td><td>⋮</td></tr>\n",
       "\t<tr><th scope=row>564</th><td>Zach LaVine  </td><td>SG</td><td>18.914894</td><td>2.957447</td><td>3.382979</td><td>0.515</td><td>0.836</td><td>0.459</td><td>189</td><td>195.58</td></tr>\n",
       "\t<tr><th scope=row>565</th><td>Zach Randolph</td><td>PF</td><td>14.082192</td><td>1.671233</td><td>8.191781</td><td>0.474</td><td>0.731</td><td>0.449</td><td>260</td><td>205.74</td></tr>\n",
       "\t<tr><th scope=row>566</th><td>Zaza Pachulia</td><td>C </td><td> 6.085714</td><td>1.885714</td><td>5.857143</td><td>0.538</td><td>0.778</td><td>0.534</td><td>270</td><td>210.82</td></tr>\n",
       "</tbody>\n",
       "</table>\n"
      ],
      "text/latex": [
       "A data.frame: 427 × 10\n",
       "\\begin{tabular}{r|llllllllll}\n",
       "  & Player & Pos & PPG & APG & RPG & Two\\_Point\\_Percentage & Free\\_Throw\\_Percentage & Field\\_Goal\\_Percentage & Weight & Height\\_cm\\\\\n",
       "  & <fct> & <fct> & <dbl> & <dbl> & <dbl> & <dbl> & <dbl> & <dbl> & <dbl> & <dbl>\\\\\n",
       "\\hline\n",
       "\t1 & A.J. Hammons   & C  & 2.181818 & 0.1818182 & 1.636364 & 0.375 & 0.45 & 0.405 & 260 & 213.36\\\\\n",
       "\t2 & Aaron Brooks   & PG & 4.953846 & 1.9230769 & 1.061538 & 0.424 & 0.80 & 0.403 & 161 & 182.88\\\\\n",
       "\t4 & Aaron Harrison & SG & 0.200000 & 0.6000000 & 0.600000 & 0.000 & 0.50 & 0.000 & 210 & 198.12\\\\\n",
       "\t⋮ & ⋮ & ⋮ & ⋮ & ⋮ & ⋮ & ⋮ & ⋮ & ⋮ & ⋮ & ⋮\\\\\n",
       "\t564 & Zach LaVine   & SG & 18.914894 & 2.957447 & 3.382979 & 0.515 & 0.836 & 0.459 & 189 & 195.58\\\\\n",
       "\t565 & Zach Randolph & PF & 14.082192 & 1.671233 & 8.191781 & 0.474 & 0.731 & 0.449 & 260 & 205.74\\\\\n",
       "\t566 & Zaza Pachulia & C  &  6.085714 & 1.885714 & 5.857143 & 0.538 & 0.778 & 0.534 & 270 & 210.82\\\\\n",
       "\\end{tabular}\n"
      ],
      "text/markdown": [
       "\n",
       "A data.frame: 427 × 10\n",
       "\n",
       "| <!--/--> | Player &lt;fct&gt; | Pos &lt;fct&gt; | PPG &lt;dbl&gt; | APG &lt;dbl&gt; | RPG &lt;dbl&gt; | Two_Point_Percentage &lt;dbl&gt; | Free_Throw_Percentage &lt;dbl&gt; | Field_Goal_Percentage &lt;dbl&gt; | Weight &lt;dbl&gt; | Height_cm &lt;dbl&gt; |\n",
       "|---|---|---|---|---|---|---|---|---|---|---|\n",
       "| 1 | A.J. Hammons   | C  | 2.181818 | 0.1818182 | 1.636364 | 0.375 | 0.45 | 0.405 | 260 | 213.36 |\n",
       "| 2 | Aaron Brooks   | PG | 4.953846 | 1.9230769 | 1.061538 | 0.424 | 0.80 | 0.403 | 161 | 182.88 |\n",
       "| 4 | Aaron Harrison | SG | 0.200000 | 0.6000000 | 0.600000 | 0.000 | 0.50 | 0.000 | 210 | 198.12 |\n",
       "| ⋮ | ⋮ | ⋮ | ⋮ | ⋮ | ⋮ | ⋮ | ⋮ | ⋮ | ⋮ | ⋮ |\n",
       "| 564 | Zach LaVine   | SG | 18.914894 | 2.957447 | 3.382979 | 0.515 | 0.836 | 0.459 | 189 | 195.58 |\n",
       "| 565 | Zach Randolph | PF | 14.082192 | 1.671233 | 8.191781 | 0.474 | 0.731 | 0.449 | 260 | 205.74 |\n",
       "| 566 | Zaza Pachulia | C  |  6.085714 | 1.885714 | 5.857143 | 0.538 | 0.778 | 0.534 | 270 | 210.82 |\n",
       "\n"
      ],
      "text/plain": [
       "    Player         Pos PPG       APG       RPG      Two_Point_Percentage\n",
       "1   A.J. Hammons   C   2.181818  0.1818182 1.636364 0.375               \n",
       "2   Aaron Brooks   PG  4.953846  1.9230769 1.061538 0.424               \n",
       "4   Aaron Harrison SG  0.200000  0.6000000 0.600000 0.000               \n",
       "⋮   ⋮              ⋮   ⋮         ⋮         ⋮        ⋮                   \n",
       "564 Zach LaVine    SG  18.914894 2.957447  3.382979 0.515               \n",
       "565 Zach Randolph  PF  14.082192 1.671233  8.191781 0.474               \n",
       "566 Zaza Pachulia  C    6.085714 1.885714  5.857143 0.538               \n",
       "    Free_Throw_Percentage Field_Goal_Percentage Weight Height_cm\n",
       "1   0.45                  0.405                 260    213.36   \n",
       "2   0.80                  0.403                 161    182.88   \n",
       "4   0.50                  0.000                 210    198.12   \n",
       "⋮   ⋮                     ⋮                     ⋮      ⋮        \n",
       "564 0.836                 0.459                 189    195.58   \n",
       "565 0.731                 0.449                 260    205.74   \n",
       "566 0.778                 0.534                 270    210.82   "
      ]
     },
     "metadata": {},
     "output_type": "display_data"
    },
    {
     "data": {
      "text/html": [
       "<table>\n",
       "<caption>A data.frame: 139 × 10</caption>\n",
       "<thead>\n",
       "\t<tr><th></th><th scope=col>Player</th><th scope=col>Pos</th><th scope=col>PPG</th><th scope=col>APG</th><th scope=col>RPG</th><th scope=col>Two_Point_Percentage</th><th scope=col>Free_Throw_Percentage</th><th scope=col>Field_Goal_Percentage</th><th scope=col>Weight</th><th scope=col>Height_cm</th></tr>\n",
       "\t<tr><th></th><th scope=col>&lt;fct&gt;</th><th scope=col>&lt;fct&gt;</th><th scope=col>&lt;dbl&gt;</th><th scope=col>&lt;dbl&gt;</th><th scope=col>&lt;dbl&gt;</th><th scope=col>&lt;dbl&gt;</th><th scope=col>&lt;dbl&gt;</th><th scope=col>&lt;dbl&gt;</th><th scope=col>&lt;dbl&gt;</th><th scope=col>&lt;dbl&gt;</th></tr>\n",
       "</thead>\n",
       "<tbody>\n",
       "\t<tr><th scope=row>3</th><td>Aaron Gordon </td><td>SF</td><td>12.737500</td><td>1.8750000</td><td>5.062500</td><td>0.528</td><td>0.719</td><td>0.454</td><td>220</td><td>205.74</td></tr>\n",
       "\t<tr><th scope=row>9</th><td>Alan Anderson</td><td>SF</td><td> 2.866667</td><td>0.3666667</td><td>0.800000</td><td>0.444</td><td>0.750</td><td>0.375</td><td>220</td><td>198.12</td></tr>\n",
       "\t<tr><th scope=row>10</th><td>Alan Williams</td><td>C </td><td> 7.361702</td><td>0.4893617</td><td>6.212766</td><td>0.519</td><td>0.625</td><td>0.517</td><td>260</td><td>203.20</td></tr>\n",
       "\t<tr><th scope=row>⋮</th><td>⋮</td><td>⋮</td><td>⋮</td><td>⋮</td><td>⋮</td><td>⋮</td><td>⋮</td><td>⋮</td><td>⋮</td><td>⋮</td></tr>\n",
       "\t<tr><th scope=row>540</th><td>Tyler Zeller  </td><td>C </td><td>3.490196</td><td>0.8235294</td><td> 2.431373</td><td>0.497</td><td>0.564</td><td>0.494</td><td>253</td><td>213.36</td></tr>\n",
       "\t<tr><th scope=row>544</th><td>Tyson Chandler</td><td>C </td><td>8.446809</td><td>0.6382979</td><td>11.468085</td><td>0.671</td><td>0.734</td><td>0.671</td><td>240</td><td>215.90</td></tr>\n",
       "\t<tr><th scope=row>552</th><td>Wayne Selden  </td><td>SG</td><td>5.333333</td><td>0.3333333</td><td> 1.666667</td><td>1.000</td><td>0.500</td><td>0.625</td><td>230</td><td>195.58</td></tr>\n",
       "</tbody>\n",
       "</table>\n"
      ],
      "text/latex": [
       "A data.frame: 139 × 10\n",
       "\\begin{tabular}{r|llllllllll}\n",
       "  & Player & Pos & PPG & APG & RPG & Two\\_Point\\_Percentage & Free\\_Throw\\_Percentage & Field\\_Goal\\_Percentage & Weight & Height\\_cm\\\\\n",
       "  & <fct> & <fct> & <dbl> & <dbl> & <dbl> & <dbl> & <dbl> & <dbl> & <dbl> & <dbl>\\\\\n",
       "\\hline\n",
       "\t3 & Aaron Gordon  & SF & 12.737500 & 1.8750000 & 5.062500 & 0.528 & 0.719 & 0.454 & 220 & 205.74\\\\\n",
       "\t9 & Alan Anderson & SF &  2.866667 & 0.3666667 & 0.800000 & 0.444 & 0.750 & 0.375 & 220 & 198.12\\\\\n",
       "\t10 & Alan Williams & C  &  7.361702 & 0.4893617 & 6.212766 & 0.519 & 0.625 & 0.517 & 260 & 203.20\\\\\n",
       "\t⋮ & ⋮ & ⋮ & ⋮ & ⋮ & ⋮ & ⋮ & ⋮ & ⋮ & ⋮ & ⋮\\\\\n",
       "\t540 & Tyler Zeller   & C  & 3.490196 & 0.8235294 &  2.431373 & 0.497 & 0.564 & 0.494 & 253 & 213.36\\\\\n",
       "\t544 & Tyson Chandler & C  & 8.446809 & 0.6382979 & 11.468085 & 0.671 & 0.734 & 0.671 & 240 & 215.90\\\\\n",
       "\t552 & Wayne Selden   & SG & 5.333333 & 0.3333333 &  1.666667 & 1.000 & 0.500 & 0.625 & 230 & 195.58\\\\\n",
       "\\end{tabular}\n"
      ],
      "text/markdown": [
       "\n",
       "A data.frame: 139 × 10\n",
       "\n",
       "| <!--/--> | Player &lt;fct&gt; | Pos &lt;fct&gt; | PPG &lt;dbl&gt; | APG &lt;dbl&gt; | RPG &lt;dbl&gt; | Two_Point_Percentage &lt;dbl&gt; | Free_Throw_Percentage &lt;dbl&gt; | Field_Goal_Percentage &lt;dbl&gt; | Weight &lt;dbl&gt; | Height_cm &lt;dbl&gt; |\n",
       "|---|---|---|---|---|---|---|---|---|---|---|\n",
       "| 3 | Aaron Gordon  | SF | 12.737500 | 1.8750000 | 5.062500 | 0.528 | 0.719 | 0.454 | 220 | 205.74 |\n",
       "| 9 | Alan Anderson | SF |  2.866667 | 0.3666667 | 0.800000 | 0.444 | 0.750 | 0.375 | 220 | 198.12 |\n",
       "| 10 | Alan Williams | C  |  7.361702 | 0.4893617 | 6.212766 | 0.519 | 0.625 | 0.517 | 260 | 203.20 |\n",
       "| ⋮ | ⋮ | ⋮ | ⋮ | ⋮ | ⋮ | ⋮ | ⋮ | ⋮ | ⋮ | ⋮ |\n",
       "| 540 | Tyler Zeller   | C  | 3.490196 | 0.8235294 |  2.431373 | 0.497 | 0.564 | 0.494 | 253 | 213.36 |\n",
       "| 544 | Tyson Chandler | C  | 8.446809 | 0.6382979 | 11.468085 | 0.671 | 0.734 | 0.671 | 240 | 215.90 |\n",
       "| 552 | Wayne Selden   | SG | 5.333333 | 0.3333333 |  1.666667 | 1.000 | 0.500 | 0.625 | 230 | 195.58 |\n",
       "\n"
      ],
      "text/plain": [
       "    Player         Pos PPG       APG       RPG       Two_Point_Percentage\n",
       "3   Aaron Gordon   SF  12.737500 1.8750000 5.062500  0.528               \n",
       "9   Alan Anderson  SF   2.866667 0.3666667 0.800000  0.444               \n",
       "10  Alan Williams  C    7.361702 0.4893617 6.212766  0.519               \n",
       "⋮   ⋮              ⋮   ⋮         ⋮         ⋮         ⋮                   \n",
       "540 Tyler Zeller   C   3.490196  0.8235294  2.431373 0.497               \n",
       "544 Tyson Chandler C   8.446809  0.6382979 11.468085 0.671               \n",
       "552 Wayne Selden   SG  5.333333  0.3333333  1.666667 1.000               \n",
       "    Free_Throw_Percentage Field_Goal_Percentage Weight Height_cm\n",
       "3   0.719                 0.454                 220    205.74   \n",
       "9   0.750                 0.375                 220    198.12   \n",
       "10  0.625                 0.517                 260    203.20   \n",
       "⋮   ⋮                     ⋮                     ⋮      ⋮        \n",
       "540 0.564                 0.494                 253    213.36   \n",
       "544 0.734                 0.671                 240    215.90   \n",
       "552 0.500                 0.625                 230    195.58   "
      ]
     },
     "metadata": {},
     "output_type": "display_data"
    }
   ],
   "source": [
    "set.seed(2002)\n",
    "player_split <- initial_split(basketball_data_2017, prop = 0.75, strata = Pos) \n",
    "player_train <- training(player_split)   \n",
    "player_test <- testing(player_split)\n",
    "player_train\n",
    "player_test"
   ]
  },
  {
   "cell_type": "code",
   "execution_count": 47,
   "metadata": {},
   "outputs": [
    {
     "data": {
      "text/html": [
       "427"
      ],
      "text/latex": [
       "427"
      ],
      "text/markdown": [
       "427"
      ],
      "text/plain": [
       "[1] 427"
      ]
     },
     "metadata": {},
     "output_type": "display_data"
    }
   ],
   "source": [
    "#Number of rows in Training Data to determine the range of k-values needed.\n",
    "number_of_rows <- nrow(player_train)\n",
    "number_of_rows"
   ]
  },
  {
   "cell_type": "code",
   "execution_count": 48,
   "metadata": {},
   "outputs": [
    {
     "data": {
      "text/plain": [
       "Data Recipe\n",
       "\n",
       "Inputs:\n",
       "\n",
       "      role #variables\n",
       "   outcome          1\n",
       " predictor          8\n",
       "\n",
       "Operations:\n",
       "\n",
       "Scaling for all_predictors()\n",
       "Centering for all_predictors()"
      ]
     },
     "metadata": {},
     "output_type": "display_data"
    }
   ],
   "source": [
    "set.seed(2002)\n",
    "player_recipe <- recipe(Pos ~ PPG + APG + RPG + Two_Point_Percentage + Free_Throw_Percentage + Field_Goal_Percentage + Weight + Height_cm, data = player_train) %>%\n",
    "                        step_scale(all_predictors()) %>%\n",
    "                        step_center(all_predictors())\n",
    "player_recipe"
   ]
  },
  {
   "cell_type": "code",
   "execution_count": 49,
   "metadata": {},
   "outputs": [
    {
     "data": {
      "text/plain": [
       "K-Nearest Neighbor Model Specification (classification)\n",
       "\n",
       "Main Arguments:\n",
       "  neighbors = tune()\n",
       "  weight_func = rectangular\n",
       "\n",
       "Computational engine: kknn \n"
      ]
     },
     "metadata": {},
     "output_type": "display_data"
    }
   ],
   "source": [
    "#seed is set\n",
    "set.seed(2002)\n",
    "\n",
    "#define tuning engine\n",
    "player_tune <- nearest_neighbor(weight_func = \"rectangular\", neighbors = tune()) %>%\n",
    "      set_engine(\"kknn\") %>%\n",
    "      set_mode(\"classification\")\n",
    "player_tune"
   ]
  },
  {
   "cell_type": "code",
   "execution_count": 50,
   "metadata": {},
   "outputs": [],
   "source": [
    "set.seed(2002) \n",
    "\n",
    "#Perform Cross Validation on Data (5-fold)\n",
    "\n",
    "player_vfold <- vfold_cv(player_train, v = 5, strata = Pos)"
   ]
  },
  {
   "cell_type": "code",
   "execution_count": 55,
   "metadata": {},
   "outputs": [
    {
     "name": "stderr",
     "output_type": "stream",
     "text": [
      "\u001b[33m!\u001b[39m \u001b[33mFold1: internal: No observations were detected in `truth` for level(s): 'PF-C'\n",
      "...\u001b[39m\n",
      "\n",
      "\u001b[33m!\u001b[39m \u001b[33mFold2: internal: No observations were detected in `truth` for level(s): 'PF-C'\n",
      "...\u001b[39m\n",
      "\n",
      "\u001b[33m!\u001b[39m \u001b[33mFold3: internal: No observations were detected in `truth` for level(s): 'PF-C'\n",
      "...\u001b[39m\n",
      "\n",
      "\u001b[33m!\u001b[39m \u001b[33mFold4: internal: No observations were detected in `truth` for level(s): 'PF-C'\n",
      "...\u001b[39m\n",
      "\n"
     ]
    },
    {
     "data": {
      "text/html": [
       "<table>\n",
       "<caption>A tibble: 100 × 7</caption>\n",
       "<thead>\n",
       "\t<tr><th scope=col>neighbors</th><th scope=col>.metric</th><th scope=col>.estimator</th><th scope=col>mean</th><th scope=col>n</th><th scope=col>std_err</th><th scope=col>.config</th></tr>\n",
       "\t<tr><th scope=col>&lt;int&gt;</th><th scope=col>&lt;chr&gt;</th><th scope=col>&lt;chr&gt;</th><th scope=col>&lt;dbl&gt;</th><th scope=col>&lt;int&gt;</th><th scope=col>&lt;dbl&gt;</th><th scope=col>&lt;chr&gt;</th></tr>\n",
       "</thead>\n",
       "<tbody>\n",
       "\t<tr><td>1</td><td>accuracy</td><td>multiclass</td><td>0.6844084</td><td>5</td><td>0.017024699</td><td>Model01</td></tr>\n",
       "\t<tr><td>1</td><td>roc_auc </td><td>hand_till </td><td>0.7917347</td><td>5</td><td>0.009166911</td><td>Model01</td></tr>\n",
       "\t<tr><td>2</td><td>accuracy</td><td>multiclass</td><td>0.6844084</td><td>5</td><td>0.017024699</td><td>Model02</td></tr>\n",
       "\t<tr><td>⋮</td><td>⋮</td><td>⋮</td><td>⋮</td><td>⋮</td><td>⋮</td><td>⋮</td></tr>\n",
       "\t<tr><td>49</td><td>roc_auc </td><td>hand_till </td><td>0.8899928</td><td>5</td><td>0.01146634</td><td>Model49</td></tr>\n",
       "\t<tr><td>50</td><td>accuracy</td><td>multiclass</td><td>0.6351623</td><td>5</td><td>0.02158630</td><td>Model50</td></tr>\n",
       "\t<tr><td>50</td><td>roc_auc </td><td>hand_till </td><td>0.8888539</td><td>5</td><td>0.01094488</td><td>Model50</td></tr>\n",
       "</tbody>\n",
       "</table>\n"
      ],
      "text/latex": [
       "A tibble: 100 × 7\n",
       "\\begin{tabular}{lllllll}\n",
       " neighbors & .metric & .estimator & mean & n & std\\_err & .config\\\\\n",
       " <int> & <chr> & <chr> & <dbl> & <int> & <dbl> & <chr>\\\\\n",
       "\\hline\n",
       "\t 1 & accuracy & multiclass & 0.6844084 & 5 & 0.017024699 & Model01\\\\\n",
       "\t 1 & roc\\_auc  & hand\\_till  & 0.7917347 & 5 & 0.009166911 & Model01\\\\\n",
       "\t 2 & accuracy & multiclass & 0.6844084 & 5 & 0.017024699 & Model02\\\\\n",
       "\t ⋮ & ⋮ & ⋮ & ⋮ & ⋮ & ⋮ & ⋮\\\\\n",
       "\t 49 & roc\\_auc  & hand\\_till  & 0.8899928 & 5 & 0.01146634 & Model49\\\\\n",
       "\t 50 & accuracy & multiclass & 0.6351623 & 5 & 0.02158630 & Model50\\\\\n",
       "\t 50 & roc\\_auc  & hand\\_till  & 0.8888539 & 5 & 0.01094488 & Model50\\\\\n",
       "\\end{tabular}\n"
      ],
      "text/markdown": [
       "\n",
       "A tibble: 100 × 7\n",
       "\n",
       "| neighbors &lt;int&gt; | .metric &lt;chr&gt; | .estimator &lt;chr&gt; | mean &lt;dbl&gt; | n &lt;int&gt; | std_err &lt;dbl&gt; | .config &lt;chr&gt; |\n",
       "|---|---|---|---|---|---|---|\n",
       "| 1 | accuracy | multiclass | 0.6844084 | 5 | 0.017024699 | Model01 |\n",
       "| 1 | roc_auc  | hand_till  | 0.7917347 | 5 | 0.009166911 | Model01 |\n",
       "| 2 | accuracy | multiclass | 0.6844084 | 5 | 0.017024699 | Model02 |\n",
       "| ⋮ | ⋮ | ⋮ | ⋮ | ⋮ | ⋮ | ⋮ |\n",
       "| 49 | roc_auc  | hand_till  | 0.8899928 | 5 | 0.01146634 | Model49 |\n",
       "| 50 | accuracy | multiclass | 0.6351623 | 5 | 0.02158630 | Model50 |\n",
       "| 50 | roc_auc  | hand_till  | 0.8888539 | 5 | 0.01094488 | Model50 |\n",
       "\n"
      ],
      "text/plain": [
       "    neighbors .metric  .estimator mean      n std_err     .config\n",
       "1   1         accuracy multiclass 0.6844084 5 0.017024699 Model01\n",
       "2   1         roc_auc  hand_till  0.7917347 5 0.009166911 Model01\n",
       "3   2         accuracy multiclass 0.6844084 5 0.017024699 Model02\n",
       "⋮   ⋮         ⋮        ⋮          ⋮         ⋮ ⋮           ⋮      \n",
       "98  49        roc_auc  hand_till  0.8899928 5 0.01146634  Model49\n",
       "99  50        accuracy multiclass 0.6351623 5 0.02158630  Model50\n",
       "100 50        roc_auc  hand_till  0.8888539 5 0.01094488  Model50"
      ]
     },
     "metadata": {},
     "output_type": "display_data"
    }
   ],
   "source": [
    "set.seed(2002)\n",
    "#Tibble of k-values\n",
    "k_vals <- tibble(neighbors = seq(from = 1, to = 50))\n",
    "# k_vals\n",
    "\n",
    "player_results <- workflow() %>%\n",
    "                 add_recipe(player_recipe) %>%\n",
    "                 add_model(player_tune) %>%\n",
    "                 tune_grid(resamples = player_vfold, grid = k_vals) %>%\n",
    "                 collect_metrics()\n",
    "player_results"
   ]
  },
  {
   "cell_type": "code",
   "execution_count": 56,
   "metadata": {},
   "outputs": [
    {
     "data": {
      "image/png": "[encoded data removed]",
      "text/plain": [
       "plot without title"
      ]
     },
     "metadata": {
      "image/png": {
       "height": 420,
       "width": 420
      }
     },
     "output_type": "display_data"
    }
   ],
   "source": [
    "accuracies <- player_results %>% \n",
    "      filter(.metric == \"accuracy\")\n",
    "\n",
    "accuracy_versus_k <- ggplot(accuracies, aes(x = neighbors, y = mean))+\n",
    "      geom_point() +\n",
    "      geom_line() +\n",
    "      labs(x = \"Neighbors\", y = \"Accuracy Estimate\") +\n",
    "      ggtitle(\"Accuracy Estimate as a Function of K-Neighbors\")\n",
    "accuracy_versus_k"
   ]
  },
  {
   "cell_type": "code",
   "execution_count": 60,
   "metadata": {},
   "outputs": [],
   "source": [
    "#9 Neighbors Clearly Works the Best\n",
    "#Trying for High Values of K seems to be pointless and Runs super slow\n",
    "\n",
    "best_k_val <- 9"
   ]
  },
  {
   "cell_type": "code",
   "execution_count": 61,
   "metadata": {},
   "outputs": [
    {
     "data": {
      "text/plain": [
       "══ Workflow [trained] ══════════════════════════════════════════════════════════\n",
       "\u001b[3mPreprocessor:\u001b[23m Recipe\n",
       "\u001b[3mModel:\u001b[23m nearest_neighbor()\n",
       "\n",
       "── Preprocessor ────────────────────────────────────────────────────────────────\n",
       "2 Recipe Steps\n",
       "\n",
       "● step_scale()\n",
       "● step_center()\n",
       "\n",
       "── Model ───────────────────────────────────────────────────────────────────────\n",
       "\n",
       "Call:\n",
       "kknn::train.kknn(formula = ..y ~ ., data = data, ks = ~best_k_val,     kernel = ~\"rectangular\")\n",
       "\n",
       "Type of response variable: nominal\n",
       "Minimal misclassification: 0.2903981\n",
       "Best kernel: rectangular\n",
       "Best k: 9"
      ]
     },
     "metadata": {},
     "output_type": "display_data"
    }
   ],
   "source": [
    "#Begin Fitting\n",
    "\n",
    "player_spec <- nearest_neighbor(weight_func = \"rectangular\", neighbors = best_k_val) %>%\n",
    "       set_engine(\"kknn\") %>%\n",
    "       set_mode(\"classification\")\n",
    "\n",
    "player_recipe <- recipe(Pos ~ PPG + APG + RPG + Two_Point_Percentage + Free_Throw_Percentage + Field_Goal_Percentage + Weight + Height_cm, data = player_train) %>%\n",
    "                        step_scale(all_predictors()) %>%\n",
    "                        step_center(all_predictors())\n",
    "\n",
    "player_fit <- workflow() %>%\n",
    "             add_recipe(player_recipe) %>%\n",
    "             add_model(player_spec) %>%\n",
    "            fit(data = player_train)\n",
    "player_fit"
   ]
  },
  {
   "cell_type": "code",
   "execution_count": null,
   "metadata": {},
   "outputs": [],
   "source": [
    "player_predictions <- predict(player_fit, player_test) %>%\n",
    "                        bind_cols(player_test)\n",
    "\n",
    "player_metrics <- player_predictions %>% metrics(truth = Pos, estimate = .pred_class)\n",
    "\n",
    "mnist_conf_mat <- mnist_predictions %>%\n",
    "                        conf_mat(truth = y, estimate = .pred_class) \n",
    "mnist_metrics\n",
    "mnist_conf_mat"
   ]
  }
 ],
 "metadata": {
  "kernelspec": {
   "display_name": "R",
   "language": "R",
   "name": "ir"
  },
  "language_info": {
   "codemirror_mode": "r",
   "file_extension": ".r",
   "mimetype": "text/x-r-source",
   "name": "R",
   "pygments_lexer": "r",
   "version": "4.0.0"
  }
 },
 "nbformat": 4,
 "nbformat_minor": 4
}
